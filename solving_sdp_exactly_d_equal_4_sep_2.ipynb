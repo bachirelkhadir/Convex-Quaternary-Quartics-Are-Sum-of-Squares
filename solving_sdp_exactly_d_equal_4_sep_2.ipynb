{
 "cells": [
  {
   "cell_type": "markdown",
   "metadata": {},
   "source": [
    "We are looking for the coefficients of a convex polynomial\n",
    "$$p(x, y) = \\sum_{i=0}^{2d} c_i x^i y^{2d-i}$$\n",
    "that maximizes\n",
    "$$\\frac{c_4}{70}.$$\n",
    "and satisfies\n",
    "$p(1, 0) = p(0, 1) = 1$, or equivalently $c_0 = c_8 = 1$.\n",
    "\n",
    "In the following we perform a series of symmetry reduction techniques that will allow us to solve this problem analytically.\n",
    "\n",
    "## Reducing the number of coefficients in $p$\n",
    "\n",
    "Note that if $p$ is such a polynomial, then so is $p(-x, -y)$, so we\n",
    "can assume that $p$ is even (i.e., $c_i = 0$ for $i=1,3,5,7$). Furthermore, if $p$ is a solution, so is\n",
    "$p(y, x)$, so we can assume that $p$ is symmetric (i.e., $c_i = c_{8-i}$. All in all, without\n",
    "loss of generality we assume\n",
    "\n",
    "$$p(x, y) = x^8 + y^8 +  \\alpha x^4y^4 + \\beta (x^2y^6 + x^6y^2) \\text{ for some $\\alpha, \\beta \\in \\mathbb R$}.$$\n"
   ]
  },
  {
   "cell_type": "code",
   "execution_count": 193,
   "metadata": {},
   "outputs": [
    {
     "data": {
      "text/html": [
       "<html><script type=\"math/tex; mode=display\">\\newcommand{\\Bold}[1]{\\mathbf{#1}}b x^{6} y^{2} + a x^{4} y^{4} + b x^{2} y^{6} + x^{8} + y^{8}</script></html>"
      ],
      "text/plain": [
       "b*x^6*y^2 + a*x^4*y^4 + b*x^2*y^6 + x^8 + y^8"
      ]
     },
     "execution_count": 193,
     "metadata": {},
     "output_type": "execute_result"
    }
   ],
   "source": [
    "%display latex\n",
    "R.<a, b, x,y,u,v> = QQ['a,b,x,y,u,v']\n",
    "vars = [x,y,u,v]\n",
    "\n",
    "q = x^8 + y^8 + a*x^4*y^4 + b*(x^2*y^6 + x^6*y^2)\n",
    "q"
   ]
  },
  {
   "cell_type": "markdown",
   "metadata": {},
   "source": [
    "\n",
    "## Formulating the problem as an SDP\n",
    "Because of Theorem 3.6, imposing the condition on the convexity of $p$ we can formulated as a search problem for an $8 \\times 8$ positive semidefinite matrix $Q$ that satisfies\n",
    " $${\\mathbf u}^T\\nabla^2q({\\mathbf x}){\\mathbf u} = z^TQz \\quad \\forall {\\mathbf x},{\\mathbf u} \\in \\mathbb R^2$$\n",
    " where\n",
    "$$z^T({\\mathbf x}, {\\mathbf u}) = (u x^{2d}, ux^{2d-1}y, \\ldots, v y^{2d}, v x^{2d}, v x^{2d-1}y, \\ldots, v y^{2d}).$$\n",
    "\n",
    "Once we have $Q$, we can recover the polynomial $q$ via Euler's identity as follows:\n",
    "\n",
    "$$q(\\mathbf x) = \\frac1{8 \\cdot 7} z(\\mathbf x, \\mathbf x)^T Q z(\\mathbf x, \\mathbf x)$$\n",
    "\n",
    "\n",
    "Therefore, the objective function ca be written exclusively in terms of the matrix $Q$, and we can rewrite our optimization problem (*) completely in terms of the  matrix $Q$ as follows:\n",
    "\n",
    "$$\\max_{Q \\succeq 0} Q \\text{ s.t. } Q \\in \\mathcal L$$\n",
    "where $\\mathcal L$ is the following linear space\n",
    "$$\\{Q \\; | \\; \\exists q = x^8 + y^8 +  \\alpha x^4y^4 + \\beta (x^2y^6 + x^6y^2) \\text{ s.t. } {\\mathbf u}^T\\nabla^2q({\\mathbf x}){\\mathbf u} = z^TQz.\\}$$"
   ]
  },
  {
   "cell_type": "code",
   "execution_count": 194,
   "metadata": {
    "code_folding": [
     0
    ]
   },
   "outputs": [
    {
     "data": {
      "text/html": [
       "<html><script type=\"math/tex; mode=display\">\\newcommand{\\Bold}[1]{\\mathbf{#1}}\\left(\\begin{array}{rrrrrrrr}\n",
       "Q_{00} & Q_{01} & Q_{02} & Q_{03} & Q_{04} & Q_{05} & Q_{06} & Q_{07} \\\\\n",
       "Q_{01} & Q_{11} & Q_{12} & Q_{13} & Q_{14} & Q_{15} & Q_{16} & Q_{17} \\\\\n",
       "Q_{02} & Q_{12} & Q_{22} & Q_{23} & Q_{24} & Q_{25} & Q_{26} & Q_{27} \\\\\n",
       "Q_{03} & Q_{13} & Q_{23} & Q_{33} & Q_{34} & Q_{35} & Q_{36} & Q_{37} \\\\\n",
       "Q_{04} & Q_{14} & Q_{24} & Q_{34} & Q_{44} & Q_{45} & Q_{46} & Q_{47} \\\\\n",
       "Q_{05} & Q_{15} & Q_{25} & Q_{35} & Q_{45} & Q_{55} & Q_{56} & Q_{57} \\\\\n",
       "Q_{06} & Q_{16} & Q_{26} & Q_{36} & Q_{46} & Q_{56} & Q_{66} & Q_{67} \\\\\n",
       "Q_{07} & Q_{17} & Q_{27} & Q_{37} & Q_{47} & Q_{57} & Q_{67} & Q_{77}\n",
       "\\end{array}\\right)</script></html>"
      ],
      "text/plain": [
       "[Q_00 Q_01 Q_02 Q_03 Q_04 Q_05 Q_06 Q_07]\n",
       "[Q_01 Q_11 Q_12 Q_13 Q_14 Q_15 Q_16 Q_17]\n",
       "[Q_02 Q_12 Q_22 Q_23 Q_24 Q_25 Q_26 Q_27]\n",
       "[Q_03 Q_13 Q_23 Q_33 Q_34 Q_35 Q_36 Q_37]\n",
       "[Q_04 Q_14 Q_24 Q_34 Q_44 Q_45 Q_46 Q_47]\n",
       "[Q_05 Q_15 Q_25 Q_35 Q_45 Q_55 Q_56 Q_57]\n",
       "[Q_06 Q_16 Q_26 Q_36 Q_46 Q_56 Q_66 Q_67]\n",
       "[Q_07 Q_17 Q_27 Q_37 Q_47 Q_57 Q_67 Q_77]"
      ]
     },
     "execution_count": 194,
     "metadata": {},
     "output_type": "execute_result"
    }
   ],
   "source": [
    "def symb_matrix(N, base_name='Q_%d%d', sym=False):\n",
    "    var_swapper = lambda i,j: (i, j)\n",
    "    if sym:\n",
    "        var_swapper = lambda i,j: (min(i,j), max(i,j))\n",
    "        \n",
    "    Q_varnames = ','.join([base_name % var_swapper( i,j) for (i,j) in cartesian_product([range(N),range(N)])])\n",
    "    Q_vars = var(Q_varnames) \n",
    "    Q = matrix(SR,N,N,Q_vars)\n",
    "    \n",
    "    return Q\n",
    "Q = symb_matrix(8, 'Q_%d%d', sym=True)\n",
    "Q"
   ]
  },
  {
   "cell_type": "code",
   "execution_count": 195,
   "metadata": {
    "code_folding": [
     16
    ]
   },
   "outputs": [
    {
     "data": {
      "text/html": [
       "<html><script type=\"math/tex; mode=display\">\\newcommand{\\Bold}[1]{\\mathbf{#1}}\\left(\\begin{array}{rrrrrrrr}\n",
       "-w_{79} + 56 & w_{80} & 0 & w_{74} & -w_{73} & -\\frac{1}{2} \\, w_{77} - \\frac{1}{2} \\, w_{78} & -w_{70} & -w_{68} - w_{70} - w_{72} \\\\\n",
       "w_{80} & w_{75} & w_{69} & -2 \\, w_{65} + w_{69} - w_{74} & w_{77} & w_{73} - \\frac{1}{2} \\, w_{77} + \\frac{1}{2} \\, w_{78} & w_{68} & -w_{72} \\\\\n",
       "0 & w_{69} & w_{79} & 6 \\, w_{59} - 6 \\, w_{64} + 13 \\, w_{67} - w_{71} + 6 \\, w_{75} - 6 \\, w_{79} + 13 \\, w_{80} + 12 \\, w_{81} + 168 & w_{70} & -w_{68} - w_{70} - w_{72} & w_{73} & -\\frac{1}{2} \\, w_{77} - \\frac{1}{2} \\, w_{78} \\\\\n",
       "w_{74} & -2 \\, w_{65} + w_{69} - w_{74} & 6 \\, w_{59} - 6 \\, w_{64} + 13 \\, w_{67} - w_{71} + 6 \\, w_{75} - 6 \\, w_{79} + 13 \\, w_{80} + 12 \\, w_{81} + 168 & -2 \\, w_{67} - 2 \\, w_{71} - w_{75} + 12 \\, w_{81} & w_{68} + 2 \\, w_{70} + 2 \\, w_{72} & w_{72} & w_{78} & -w_{73} + \\frac{1}{2} \\, w_{77} - \\frac{1}{2} \\, w_{78} \\\\\n",
       "-w_{73} & w_{77} & w_{70} & w_{68} + 2 \\, w_{70} + 2 \\, w_{72} & w_{59} & w_{67} & -w_{69} - w_{74} & w_{65} \\\\\n",
       "-\\frac{1}{2} \\, w_{77} - \\frac{1}{2} \\, w_{78} & w_{73} - \\frac{1}{2} \\, w_{77} + \\frac{1}{2} \\, w_{78} & -w_{68} - w_{70} - w_{72} & w_{72} & w_{67} & w_{59} - 2 \\, w_{64} + 2 \\, w_{67} + w_{75} - w_{79} + 2 \\, w_{80} + 2 \\, w_{81} + 28 & w_{65} - w_{69} + w_{74} & 0 \\\\\n",
       "-w_{70} & w_{68} & w_{73} & w_{78} & -w_{69} - w_{74} & w_{65} - w_{69} + w_{74} & 2 \\, w_{59} - 3 \\, w_{64} + 4 \\, w_{67} + 2 \\, w_{71} + 3 \\, w_{75} - 3 \\, w_{79} + 2 \\, w_{80} + 6 \\, w_{81} + 84 & w_{71} \\\\\n",
       "-w_{68} - w_{70} - w_{72} & -w_{72} & -\\frac{1}{2} \\, w_{77} - \\frac{1}{2} \\, w_{78} & -w_{73} + \\frac{1}{2} \\, w_{77} - \\frac{1}{2} \\, w_{78} & w_{65} & 0 & w_{71} & w_{64}\n",
       "\\end{array}\\right)</script></html>"
      ],
      "text/plain": [
       "[                                                           -w79 + 56                                                                  w80                                                                    0                                                                  w74                                                                 -w73                                                   -1/2*w77 - 1/2*w78                                                                 -w70                                                     -w68 - w70 - w72]\n",
       "[                                                                 w80                                                                  w75                                                                  w69                                                   -2*w65 + w69 - w74                                                                  w77                                              w73 - 1/2*w77 + 1/2*w78                                                                  w68                                                                 -w72]\n",
       "[                                                                   0                                                                  w69                                                                  w79 6*w59 - 6*w64 + 13*w67 - w71 + 6*w75 - 6*w79 + 13*w80 + 12*w81 + 168                                                                  w70                                                     -w68 - w70 - w72                                                                  w73                                                   -1/2*w77 - 1/2*w78]\n",
       "[                                                                 w74                                                   -2*w65 + w69 - w74 6*w59 - 6*w64 + 13*w67 - w71 + 6*w75 - 6*w79 + 13*w80 + 12*w81 + 168                                        -2*w67 - 2*w71 - w75 + 12*w81                                                  w68 + 2*w70 + 2*w72                                                                  w72                                                                  w78                                             -w73 + 1/2*w77 - 1/2*w78]\n",
       "[                                                                -w73                                                                  w77                                                                  w70                                                  w68 + 2*w70 + 2*w72                                                                  w59                                                                  w67                                                           -w69 - w74                                                                  w65]\n",
       "[                                                  -1/2*w77 - 1/2*w78                                              w73 - 1/2*w77 + 1/2*w78                                                     -w68 - w70 - w72                                                                  w72                                                                  w67                 w59 - 2*w64 + 2*w67 + w75 - w79 + 2*w80 + 2*w81 + 28                                                      w65 - w69 + w74                                                                    0]\n",
       "[                                                                -w70                                                                  w68                                                                  w73                                                                  w78                                                           -w69 - w74                                                      w65 - w69 + w74   2*w59 - 3*w64 + 4*w67 + 2*w71 + 3*w75 - 3*w79 + 2*w80 + 6*w81 + 84                                                                  w71]\n",
       "[                                                    -w68 - w70 - w72                                                                 -w72                                                   -1/2*w77 - 1/2*w78                                             -w73 + 1/2*w77 - 1/2*w78                                                                  w65                                                                    0                                                                  w71                                                                  w64]"
      ]
     },
     "execution_count": 195,
     "metadata": {},
     "output_type": "execute_result"
    }
   ],
   "source": [
    "d = 4\n",
    "z = vector((x^3*u - y^3*v, x*y^2*u - x^2*y*v,\n",
    "     x^3*u + y^3*v, x*y^2*u + x^2*y*v, \n",
    "     x^2*y*u - x*y^2*v, y^3*u - x^3*v,\n",
    "     x^2*y*u + x*y^2*v, y^3*u + x^3*v))\n",
    "\n",
    "# hessian of q\n",
    "Hq = jacobian(jacobian(q, (x, y)), (x, y))\n",
    "# Q is in L if the following polynomial has all its coefficients equal to 0\n",
    "diff = z * Q * z - vector([u,v]) * Hq * vector([u, v])\n",
    "\n",
    "eqn_L = QQ[Q.variables() + (a,b)][x,y,u,v](diff).coefficients()\n",
    "\n",
    "# the following function gives a description of Q in terms \n",
    "# of the smallest number of variables possible\n",
    "\n",
    "def eliminate_var_matrix(Q, eqn, name, additional_vars=[]):\n",
    "    def matrix_var(Q, v):\n",
    "        M = matrix(SR, Q.nrows(), Q.ncols())\n",
    "        for i in range(Q.nrows()):\n",
    "            for j in range(Q.ncols()):\n",
    "                if Q[i,j] == v:\n",
    "                    M[i, j] = 1\n",
    "        return M\n",
    "    all_vars = list(set(sum([list(eqi.variables()) for eqi in eqn], list(Q.variables()))))\n",
    "    all_vars += additional_vars\n",
    "    all_vars = map(SR, all_vars)\n",
    "    eqn += [v - v for v in all_vars]\n",
    "    #all_vars = Q_vars+c_vars\n",
    "    #print(Q, all_vars)\n",
    "    sols = solve(map(lambda eqn_i: SR(eqn_i) == 0, eqn), all_vars)\n",
    "    assert len(sols) == 1\n",
    "    sols = sols[0]\n",
    "    r_F = [(term.rhs(), matrix_var(Q, term.lhs())) for term in sols]\n",
    "    Fr = sum([ri * Fi for ri, Fi in r_F])\n",
    "    var_to_sub = sum([list(term.rhs().variables()) for term in sols], [])\n",
    "    #var_sub = {v: var(name+str(i)) for i,v in enumerate(Fr.variables())}\n",
    "    var_sub = {v: var(name+str(i)) for i,v in enumerate(var_to_sub)}\n",
    "    return Fr.subs(var_sub)\n",
    "\n",
    "Q_L = eliminate_var_matrix(Q, eqn_L, 'w', [a])\n",
    "Q_L"
   ]
  },
  {
   "cell_type": "code",
   "execution_count": 210,
   "metadata": {},
   "outputs": [
    {
     "data": {
      "text/html": [
       "<html><script type=\"math/tex; mode=display\">\\newcommand{\\Bold}[1]{\\mathbf{#1}}\\frac{1}{70} w_{81}</script></html>"
      ],
      "text/plain": [
       "1/70*w81"
      ]
     },
     "execution_count": 210,
     "metadata": {},
     "output_type": "execute_result"
    }
   ],
   "source": [
    "q_from_Q = (z*Q_L*z).subs({u:x, v:y}) / (2*d*(2*d-1))\n",
    "q_from_Q =  QQ[Q_L.variables()][x,y](q_from_Q)\n",
    "objective = q_from_Q.coefficient({xi: 4 for xi in q_from_Q.variables()}) / binomial(2*d, d)\n",
    "objective = objective.base_ring()(objective)\n",
    "objective"
   ]
  },
  {
   "cell_type": "markdown",
   "metadata": {},
   "source": [
    "\n",
    "\n",
    "## Symmetry reduction techniques applied to $Q$\n",
    "\n",
    "Let $\\rho: \\mathbb R^4 \\mapsto \\mathbb R^4$ be any linear transformation of the variables $(x,y,u,v)$ that leaves the coefficient of $x^4y^4$ in $p$ invariant and leaves polynomial $q(x,y,u,v) := {\\mathbf u}^T\\nabla^2q({\\mathbf x}){\\mathbf u}$ invariant, i.e.\n",
    "$$q(x,y,u,v) = q \\circ \\rho(x,y,u,v).$$\n",
    "The function $\\rho$ naturally acts linearly on the vector $z(\\mathbf x, \\mathbf y)$. If we call the $8 \\times 8$ matrix of this linear operator $M_\\rho$, then \n",
    "\n",
    "$$Q \\in \\mathcal L \\iff M_\\rho^T Q M_\\rho \\in \\mathcal L.$$\n",
    " \n",
    " \n",
    "Let $G$ be a group of such transformations $\\rho$, then $Q$ is an optimal solution for (*) if and only if\n",
    "\n",
    "$$Q^* = \\frac1{|G|} \\sum_{\\rho \\in G} M_\\rho^T Q M_\\rho$$\n",
    "\n",
    "is also a solution. \n",
    "\n",
    "We will take $G$ to be the group generated by the following transformations\n",
    "\n",
    "\\begin{align*}\n",
    "  (x,y,u,v)   & \\mapsto   (y,x,v,u)\\\\\n",
    "   \\cdot \\quad & \\mapsto  (-x,y,-u,v)\\\\\n",
    "   \\cdot \\quad & \\mapsto  (-x,-y,u,v)\\\\\n",
    "   \\cdot \\quad & \\mapsto  (-x,y,u,-v).\n",
    "\\end{align*}\n",
    "\n",
    "The matrix $Q^*$ will have a very structured sparsity pattern.\n"
   ]
  },
  {
   "cell_type": "markdown",
   "metadata": {},
   "source": [
    "To make our computations exact, we work over the ring $R := \\mathbb Q[x,y,u,v]$ of polynomials in the variables $x,y,u,v$ with rational coefficients."
   ]
  },
  {
   "cell_type": "code",
   "execution_count": 211,
   "metadata": {},
   "outputs": [
    {
     "data": {
      "text/html": [
       "<html><script type=\"math/tex; mode=display\">\\newcommand{\\Bold}[1]{\\mathbf{#1}}\\left[\\left(\\begin{array}{rrrr}\n",
       "0 & 1 & 0 & 0 \\\\\n",
       "1 & 0 & 0 & 0 \\\\\n",
       "0 & 0 & 0 & 1 \\\\\n",
       "0 & 0 & 1 & 0\n",
       "\\end{array}\\right), \\left(\\begin{array}{rrrr}\n",
       "-1 & 0 & 0 & 0 \\\\\n",
       "0 & 1 & 0 & 0 \\\\\n",
       "0 & 0 & -1 & 0 \\\\\n",
       "0 & 0 & 0 & 1\n",
       "\\end{array}\\right), \\left(\\begin{array}{rrrr}\n",
       "-1 & 0 & 0 & 0 \\\\\n",
       "0 & -1 & 0 & 0 \\\\\n",
       "0 & 0 & 1 & 0 \\\\\n",
       "0 & 0 & 0 & 1\n",
       "\\end{array}\\right), \\left(\\begin{array}{rrrr}\n",
       "-1 & 0 & 0 & 0 \\\\\n",
       "0 & 1 & 0 & 0 \\\\\n",
       "0 & 0 & 1 & 0 \\\\\n",
       "0 & 0 & 0 & -1\n",
       "\\end{array}\\right), \\left(\\begin{array}{rrrr}\n",
       "1 & 0 & 0 & 0 \\\\\n",
       "0 & -1 & 0 & 0 \\\\\n",
       "0 & 0 & 1 & 0 \\\\\n",
       "0 & 0 & 0 & -1\n",
       "\\end{array}\\right), \\left(\\begin{array}{rrrr}\n",
       "1 & 0 & 0 & 0 \\\\\n",
       "0 & -1 & 0 & 0 \\\\\n",
       "0 & 0 & -1 & 0 \\\\\n",
       "0 & 0 & 0 & 1\n",
       "\\end{array}\\right)\\right]</script></html>"
      ],
      "text/plain": [
       "[\n",
       "[0 1 0 0]  [-1  0  0  0]  [-1  0  0  0]  [-1  0  0  0]  [ 1  0  0  0]\n",
       "[1 0 0 0]  [ 0  1  0  0]  [ 0 -1  0  0]  [ 0  1  0  0]  [ 0 -1  0  0]\n",
       "[0 0 0 1]  [ 0  0 -1  0]  [ 0  0  1  0]  [ 0  0  1  0]  [ 0  0  1  0]\n",
       "[0 0 1 0], [ 0  0  0  1], [ 0  0  0  1], [ 0  0  0 -1], [ 0  0  0 -1],\n",
       "\n",
       "[ 1  0  0  0]\n",
       "[ 0 -1  0  0]\n",
       "[ 0  0 -1  0]\n",
       "[ 0  0  0  1]\n",
       "]"
      ]
     },
     "execution_count": 211,
     "metadata": {},
     "output_type": "execute_result"
    }
   ],
   "source": [
    "symmetries =[[y,x,v,u],\n",
    "             [-x,y,-u,v],\n",
    "             [-x,-y,u,v],\n",
    "             [-x,y,u,-v],\n",
    "             [x, -y, u, -v],\n",
    "            [x, -y, -u, v]]\n",
    "symmetries_rho = map(lambda sym_i: matrix(QQ, jacobian(sym_i, vars)), symmetries)\n",
    "symmetries_rho"
   ]
  },
  {
   "cell_type": "code",
   "execution_count": 212,
   "metadata": {},
   "outputs": [
    {
     "data": {
      "text/html": [
       "<html><script type=\"math/tex; mode=display\">\\newcommand{\\Bold}[1]{\\mathbf{#1}}\\left(16, \\left[\\left(\\begin{array}{rrrr}\n",
       "-1 & 0 & 0 & 0 \\\\\n",
       "0 & -1 & 0 & 0 \\\\\n",
       "0 & 0 & -1 & 0 \\\\\n",
       "0 & 0 & 0 & -1\n",
       "\\end{array}\\right), \\left(\\begin{array}{rrrr}\n",
       "-1 & 0 & 0 & 0 \\\\\n",
       "0 & -1 & 0 & 0 \\\\\n",
       "0 & 0 & 1 & 0 \\\\\n",
       "0 & 0 & 0 & 1\n",
       "\\end{array}\\right), \\left(\\begin{array}{rrrr}\n",
       "-1 & 0 & 0 & 0 \\\\\n",
       "0 & 1 & 0 & 0 \\\\\n",
       "0 & 0 & -1 & 0 \\\\\n",
       "0 & 0 & 0 & 1\n",
       "\\end{array}\\right), \\left(\\begin{array}{rrrr}\n",
       "-1 & 0 & 0 & 0 \\\\\n",
       "0 & 1 & 0 & 0 \\\\\n",
       "0 & 0 & 1 & 0 \\\\\n",
       "0 & 0 & 0 & -1\n",
       "\\end{array}\\right), \\left(\\begin{array}{rrrr}\n",
       "0 & -1 & 0 & 0 \\\\\n",
       "-1 & 0 & 0 & 0 \\\\\n",
       "0 & 0 & 0 & -1 \\\\\n",
       "0 & 0 & -1 & 0\n",
       "\\end{array}\\right), \\left(\\begin{array}{rrrr}\n",
       "0 & -1 & 0 & 0 \\\\\n",
       "-1 & 0 & 0 & 0 \\\\\n",
       "0 & 0 & 0 & 1 \\\\\n",
       "0 & 0 & 1 & 0\n",
       "\\end{array}\\right), \\left(\\begin{array}{rrrr}\n",
       "0 & -1 & 0 & 0 \\\\\n",
       "1 & 0 & 0 & 0 \\\\\n",
       "0 & 0 & 0 & -1 \\\\\n",
       "0 & 0 & 1 & 0\n",
       "\\end{array}\\right), \\left(\\begin{array}{rrrr}\n",
       "0 & -1 & 0 & 0 \\\\\n",
       "1 & 0 & 0 & 0 \\\\\n",
       "0 & 0 & 0 & 1 \\\\\n",
       "0 & 0 & -1 & 0\n",
       "\\end{array}\\right), \\left(\\begin{array}{rrrr}\n",
       "0 & 1 & 0 & 0 \\\\\n",
       "-1 & 0 & 0 & 0 \\\\\n",
       "0 & 0 & 0 & -1 \\\\\n",
       "0 & 0 & 1 & 0\n",
       "\\end{array}\\right), \\left(\\begin{array}{rrrr}\n",
       "0 & 1 & 0 & 0 \\\\\n",
       "-1 & 0 & 0 & 0 \\\\\n",
       "0 & 0 & 0 & 1 \\\\\n",
       "0 & 0 & -1 & 0\n",
       "\\end{array}\\right), \\left(\\begin{array}{rrrr}\n",
       "0 & 1 & 0 & 0 \\\\\n",
       "1 & 0 & 0 & 0 \\\\\n",
       "0 & 0 & 0 & -1 \\\\\n",
       "0 & 0 & -1 & 0\n",
       "\\end{array}\\right), \\left(\\begin{array}{rrrr}\n",
       "0 & 1 & 0 & 0 \\\\\n",
       "1 & 0 & 0 & 0 \\\\\n",
       "0 & 0 & 0 & 1 \\\\\n",
       "0 & 0 & 1 & 0\n",
       "\\end{array}\\right), \\left(\\begin{array}{rrrr}\n",
       "1 & 0 & 0 & 0 \\\\\n",
       "0 & -1 & 0 & 0 \\\\\n",
       "0 & 0 & -1 & 0 \\\\\n",
       "0 & 0 & 0 & 1\n",
       "\\end{array}\\right), \\left(\\begin{array}{rrrr}\n",
       "1 & 0 & 0 & 0 \\\\\n",
       "0 & -1 & 0 & 0 \\\\\n",
       "0 & 0 & 1 & 0 \\\\\n",
       "0 & 0 & 0 & -1\n",
       "\\end{array}\\right), \\left(\\begin{array}{rrrr}\n",
       "1 & 0 & 0 & 0 \\\\\n",
       "0 & 1 & 0 & 0 \\\\\n",
       "0 & 0 & -1 & 0 \\\\\n",
       "0 & 0 & 0 & -1\n",
       "\\end{array}\\right), \\left(\\begin{array}{rrrr}\n",
       "1 & 0 & 0 & 0 \\\\\n",
       "0 & 1 & 0 & 0 \\\\\n",
       "0 & 0 & 1 & 0 \\\\\n",
       "0 & 0 & 0 & 1\n",
       "\\end{array}\\right)\\right]\\right)</script></html>"
      ],
      "text/plain": [
       "(16,\n",
       " [\n",
       "[-1  0  0  0]  [-1  0  0  0]  [-1  0  0  0]  [-1  0  0  0]\n",
       "[ 0 -1  0  0]  [ 0 -1  0  0]  [ 0  1  0  0]  [ 0  1  0  0]\n",
       "[ 0  0 -1  0]  [ 0  0  1  0]  [ 0  0 -1  0]  [ 0  0  1  0]\n",
       "[ 0  0  0 -1], [ 0  0  0  1], [ 0  0  0  1], [ 0  0  0 -1],\n",
       "\n",
       "[ 0 -1  0  0]  [ 0 -1  0  0]  [ 0 -1  0  0]  [ 0 -1  0  0]\n",
       "[-1  0  0  0]  [-1  0  0  0]  [ 1  0  0  0]  [ 1  0  0  0]\n",
       "[ 0  0  0 -1]  [ 0  0  0  1]  [ 0  0  0 -1]  [ 0  0  0  1]\n",
       "[ 0  0 -1  0], [ 0  0  1  0], [ 0  0  1  0], [ 0  0 -1  0],\n",
       "\n",
       "[ 0  1  0  0]  [ 0  1  0  0]  [ 0  1  0  0]  [0 1 0 0]  [ 1  0  0  0]\n",
       "[-1  0  0  0]  [-1  0  0  0]  [ 1  0  0  0]  [1 0 0 0]  [ 0 -1  0  0]\n",
       "[ 0  0  0 -1]  [ 0  0  0  1]  [ 0  0  0 -1]  [0 0 0 1]  [ 0  0 -1  0]\n",
       "[ 0  0  1  0], [ 0  0 -1  0], [ 0  0 -1  0], [0 0 1 0], [ 0  0  0  1],\n",
       "\n",
       "[ 1  0  0  0]  [ 1  0  0  0]  [1 0 0 0]\n",
       "[ 0 -1  0  0]  [ 0  1  0  0]  [0 1 0 0]\n",
       "[ 0  0  1  0]  [ 0  0 -1  0]  [0 0 1 0]\n",
       "[ 0  0  0 -1], [ 0  0  0 -1], [0 0 0 1]\n",
       "])"
      ]
     },
     "execution_count": 212,
     "metadata": {},
     "output_type": "execute_result"
    }
   ],
   "source": [
    "G = gap.Group(gens)\n",
    "G = gap.Elements(G).sage()\n",
    "G = [matrix(QQ, g_elem_i) for g_elem_i in g_elem]\n",
    "len(G), G"
   ]
  },
  {
   "cell_type": "code",
   "execution_count": 213,
   "metadata": {},
   "outputs": [
    {
     "data": {
      "text/html": [
       "<html><script type=\"math/tex; mode=display\">\\newcommand{\\Bold}[1]{\\mathbf{#1}}\\left[\\left(x^{3} u -  y^{3} v,\\,x y^{2} u -  x^{2} y v,\\,x^{3} u + y^{3} v,\\,x y^{2} u + x^{2} y v,\\,x^{2} y u -  x y^{2} v,\\,y^{3} u -  x^{3} v,\\,x^{2} y u + x y^{2} v,\\,y^{3} u + x^{3} v\\right), \\left(- x^{3} u + y^{3} v,\\,- x y^{2} u + x^{2} y v,\\,- x^{3} u -  y^{3} v,\\,- x y^{2} u -  x^{2} y v,\\,- x^{2} y u + x y^{2} v,\\,- y^{3} u + x^{3} v,\\,- x^{2} y u -  x y^{2} v,\\,- y^{3} u -  x^{3} v\\right), \\left(x^{3} u -  y^{3} v,\\,x y^{2} u -  x^{2} y v,\\,x^{3} u + y^{3} v,\\,x y^{2} u + x^{2} y v,\\,- x^{2} y u + x y^{2} v,\\,- y^{3} u + x^{3} v,\\,- x^{2} y u -  x y^{2} v,\\,- y^{3} u -  x^{3} v\\right), \\left(- x^{3} u + y^{3} v,\\,- x y^{2} u + x^{2} y v,\\,- x^{3} u -  y^{3} v,\\,- x y^{2} u -  x^{2} y v,\\,x^{2} y u -  x y^{2} v,\\,y^{3} u -  x^{3} v,\\,x^{2} y u + x y^{2} v,\\,y^{3} u + x^{3} v\\right), \\left(- x^{3} u + y^{3} v,\\,- x y^{2} u + x^{2} y v,\\,x^{3} u + y^{3} v,\\,x y^{2} u + x^{2} y v,\\,- x^{2} y u + x y^{2} v,\\,- y^{3} u + x^{3} v,\\,x^{2} y u + x y^{2} v,\\,y^{3} u + x^{3} v\\right), \\left(x^{3} u -  y^{3} v,\\,x y^{2} u -  x^{2} y v,\\,- x^{3} u -  y^{3} v,\\,- x y^{2} u -  x^{2} y v,\\,x^{2} y u -  x y^{2} v,\\,y^{3} u -  x^{3} v,\\,- x^{2} y u -  x y^{2} v,\\,- y^{3} u -  x^{3} v\\right), \\left(- x^{3} u + y^{3} v,\\,- x y^{2} u + x^{2} y v,\\,x^{3} u + y^{3} v,\\,x y^{2} u + x^{2} y v,\\,x^{2} y u -  x y^{2} v,\\,y^{3} u -  x^{3} v,\\,- x^{2} y u -  x y^{2} v,\\,- y^{3} u -  x^{3} v\\right), \\left(x^{3} u -  y^{3} v,\\,x y^{2} u -  x^{2} y v,\\,- x^{3} u -  y^{3} v,\\,- x y^{2} u -  x^{2} y v,\\,- x^{2} y u + x y^{2} v,\\,- y^{3} u + x^{3} v,\\,x^{2} y u + x y^{2} v,\\,y^{3} u + x^{3} v\\right), \\left(x^{3} u -  y^{3} v,\\,x y^{2} u -  x^{2} y v,\\,- x^{3} u -  y^{3} v,\\,- x y^{2} u -  x^{2} y v,\\,- x^{2} y u + x y^{2} v,\\,- y^{3} u + x^{3} v,\\,x^{2} y u + x y^{2} v,\\,y^{3} u + x^{3} v\\right), \\left(- x^{3} u + y^{3} v,\\,- x y^{2} u + x^{2} y v,\\,x^{3} u + y^{3} v,\\,x y^{2} u + x^{2} y v,\\,x^{2} y u -  x y^{2} v,\\,y^{3} u -  x^{3} v,\\,- x^{2} y u -  x y^{2} v,\\,- y^{3} u -  x^{3} v\\right), \\left(x^{3} u -  y^{3} v,\\,x y^{2} u -  x^{2} y v,\\,- x^{3} u -  y^{3} v,\\,- x y^{2} u -  x^{2} y v,\\,x^{2} y u -  x y^{2} v,\\,y^{3} u -  x^{3} v,\\,- x^{2} y u -  x y^{2} v,\\,- y^{3} u -  x^{3} v\\right), \\left(- x^{3} u + y^{3} v,\\,- x y^{2} u + x^{2} y v,\\,x^{3} u + y^{3} v,\\,x y^{2} u + x^{2} y v,\\,- x^{2} y u + x y^{2} v,\\,- y^{3} u + x^{3} v,\\,x^{2} y u + x y^{2} v,\\,y^{3} u + x^{3} v\\right), \\left(- x^{3} u + y^{3} v,\\,- x y^{2} u + x^{2} y v,\\,- x^{3} u -  y^{3} v,\\,- x y^{2} u -  x^{2} y v,\\,x^{2} y u -  x y^{2} v,\\,y^{3} u -  x^{3} v,\\,x^{2} y u + x y^{2} v,\\,y^{3} u + x^{3} v\\right), \\left(x^{3} u -  y^{3} v,\\,x y^{2} u -  x^{2} y v,\\,x^{3} u + y^{3} v,\\,x y^{2} u + x^{2} y v,\\,- x^{2} y u + x y^{2} v,\\,- y^{3} u + x^{3} v,\\,- x^{2} y u -  x y^{2} v,\\,- y^{3} u -  x^{3} v\\right), \\left(- x^{3} u + y^{3} v,\\,- x y^{2} u + x^{2} y v,\\,- x^{3} u -  y^{3} v,\\,- x y^{2} u -  x^{2} y v,\\,- x^{2} y u + x y^{2} v,\\,- y^{3} u + x^{3} v,\\,- x^{2} y u -  x y^{2} v,\\,- y^{3} u -  x^{3} v\\right), \\left(x^{3} u -  y^{3} v,\\,x y^{2} u -  x^{2} y v,\\,x^{3} u + y^{3} v,\\,x y^{2} u + x^{2} y v,\\,x^{2} y u -  x y^{2} v,\\,y^{3} u -  x^{3} v,\\,x^{2} y u + x y^{2} v,\\,y^{3} u + x^{3} v\\right)\\right]</script></html>"
      ],
      "text/plain": [
       "[(x^3*u - y^3*v, x*y^2*u - x^2*y*v, x^3*u + y^3*v, x*y^2*u + x^2*y*v, x^2*y*u - x*y^2*v, y^3*u - x^3*v, x^2*y*u + x*y^2*v, y^3*u + x^3*v),\n",
       " (-x^3*u + y^3*v, -x*y^2*u + x^2*y*v, -x^3*u - y^3*v, -x*y^2*u - x^2*y*v, -x^2*y*u + x*y^2*v, -y^3*u + x^3*v, -x^2*y*u - x*y^2*v, -y^3*u - x^3*v),\n",
       " (x^3*u - y^3*v, x*y^2*u - x^2*y*v, x^3*u + y^3*v, x*y^2*u + x^2*y*v, -x^2*y*u + x*y^2*v, -y^3*u + x^3*v, -x^2*y*u - x*y^2*v, -y^3*u - x^3*v),\n",
       " (-x^3*u + y^3*v, -x*y^2*u + x^2*y*v, -x^3*u - y^3*v, -x*y^2*u - x^2*y*v, x^2*y*u - x*y^2*v, y^3*u - x^3*v, x^2*y*u + x*y^2*v, y^3*u + x^3*v),\n",
       " (-x^3*u + y^3*v, -x*y^2*u + x^2*y*v, x^3*u + y^3*v, x*y^2*u + x^2*y*v, -x^2*y*u + x*y^2*v, -y^3*u + x^3*v, x^2*y*u + x*y^2*v, y^3*u + x^3*v),\n",
       " (x^3*u - y^3*v, x*y^2*u - x^2*y*v, -x^3*u - y^3*v, -x*y^2*u - x^2*y*v, x^2*y*u - x*y^2*v, y^3*u - x^3*v, -x^2*y*u - x*y^2*v, -y^3*u - x^3*v),\n",
       " (-x^3*u + y^3*v, -x*y^2*u + x^2*y*v, x^3*u + y^3*v, x*y^2*u + x^2*y*v, x^2*y*u - x*y^2*v, y^3*u - x^3*v, -x^2*y*u - x*y^2*v, -y^3*u - x^3*v),\n",
       " (x^3*u - y^3*v, x*y^2*u - x^2*y*v, -x^3*u - y^3*v, -x*y^2*u - x^2*y*v, -x^2*y*u + x*y^2*v, -y^3*u + x^3*v, x^2*y*u + x*y^2*v, y^3*u + x^3*v),\n",
       " (x^3*u - y^3*v, x*y^2*u - x^2*y*v, -x^3*u - y^3*v, -x*y^2*u - x^2*y*v, -x^2*y*u + x*y^2*v, -y^3*u + x^3*v, x^2*y*u + x*y^2*v, y^3*u + x^3*v),\n",
       " (-x^3*u + y^3*v, -x*y^2*u + x^2*y*v, x^3*u + y^3*v, x*y^2*u + x^2*y*v, x^2*y*u - x*y^2*v, y^3*u - x^3*v, -x^2*y*u - x*y^2*v, -y^3*u - x^3*v),\n",
       " (x^3*u - y^3*v, x*y^2*u - x^2*y*v, -x^3*u - y^3*v, -x*y^2*u - x^2*y*v, x^2*y*u - x*y^2*v, y^3*u - x^3*v, -x^2*y*u - x*y^2*v, -y^3*u - x^3*v),\n",
       " (-x^3*u + y^3*v, -x*y^2*u + x^2*y*v, x^3*u + y^3*v, x*y^2*u + x^2*y*v, -x^2*y*u + x*y^2*v, -y^3*u + x^3*v, x^2*y*u + x*y^2*v, y^3*u + x^3*v),\n",
       " (-x^3*u + y^3*v, -x*y^2*u + x^2*y*v, -x^3*u - y^3*v, -x*y^2*u - x^2*y*v, x^2*y*u - x*y^2*v, y^3*u - x^3*v, x^2*y*u + x*y^2*v, y^3*u + x^3*v),\n",
       " (x^3*u - y^3*v, x*y^2*u - x^2*y*v, x^3*u + y^3*v, x*y^2*u + x^2*y*v, -x^2*y*u + x*y^2*v, -y^3*u + x^3*v, -x^2*y*u - x*y^2*v, -y^3*u - x^3*v),\n",
       " (-x^3*u + y^3*v, -x*y^2*u + x^2*y*v, -x^3*u - y^3*v, -x*y^2*u - x^2*y*v, -x^2*y*u + x*y^2*v, -y^3*u + x^3*v, -x^2*y*u - x*y^2*v, -y^3*u - x^3*v),\n",
       " (x^3*u - y^3*v, x*y^2*u - x^2*y*v, x^3*u + y^3*v, x*y^2*u + x^2*y*v, x^2*y*u - x*y^2*v, y^3*u - x^3*v, x^2*y*u + x*y^2*v, y^3*u + x^3*v)]"
      ]
     },
     "execution_count": 213,
     "metadata": {},
     "output_type": "execute_result"
    }
   ],
   "source": [
    "rho_acting_on_z = [z.subs({vi: subi for vi,subi in zip(vars, g*vector(vars))}) for g in G]\n",
    "rho_acting_on_z"
   ]
  },
  {
   "cell_type": "code",
   "execution_count": 214,
   "metadata": {},
   "outputs": [
    {
     "data": {
      "text/html": [
       "<html><script type=\"math/tex; mode=display\">\\newcommand{\\Bold}[1]{\\mathbf{#1}}\\left[\\left(\\begin{array}{rrrrrrrr}\n",
       "1 & 0 & 0 & 0 & 0 & 0 & 0 & 0 \\\\\n",
       "0 & 1 & 0 & 0 & 0 & 0 & 0 & 0 \\\\\n",
       "0 & 0 & 1 & 0 & 0 & 0 & 0 & 0 \\\\\n",
       "0 & 0 & 0 & 1 & 0 & 0 & 0 & 0 \\\\\n",
       "0 & 0 & 0 & 0 & 1 & 0 & 0 & 0 \\\\\n",
       "0 & 0 & 0 & 0 & 0 & 1 & 0 & 0 \\\\\n",
       "0 & 0 & 0 & 0 & 0 & 0 & 1 & 0 \\\\\n",
       "0 & 0 & 0 & 0 & 0 & 0 & 0 & 1\n",
       "\\end{array}\\right), \\left(\\begin{array}{rrrrrrrr}\n",
       "-1 & 0 & 0 & 0 & 0 & 0 & 0 & 0 \\\\\n",
       "0 & -1 & 0 & 0 & 0 & 0 & 0 & 0 \\\\\n",
       "0 & 0 & -1 & 0 & 0 & 0 & 0 & 0 \\\\\n",
       "0 & 0 & 0 & -1 & 0 & 0 & 0 & 0 \\\\\n",
       "0 & 0 & 0 & 0 & -1 & 0 & 0 & 0 \\\\\n",
       "0 & 0 & 0 & 0 & 0 & -1 & 0 & 0 \\\\\n",
       "0 & 0 & 0 & 0 & 0 & 0 & -1 & 0 \\\\\n",
       "0 & 0 & 0 & 0 & 0 & 0 & 0 & -1\n",
       "\\end{array}\\right)\\right]</script></html>"
      ],
      "text/plain": [
       "[\n",
       "[1 0 0 0 0 0 0 0]  [-1  0  0  0  0  0  0  0]\n",
       "[0 1 0 0 0 0 0 0]  [ 0 -1  0  0  0  0  0  0]\n",
       "[0 0 1 0 0 0 0 0]  [ 0  0 -1  0  0  0  0  0]\n",
       "[0 0 0 1 0 0 0 0]  [ 0  0  0 -1  0  0  0  0]\n",
       "[0 0 0 0 1 0 0 0]  [ 0  0  0  0 -1  0  0  0]\n",
       "[0 0 0 0 0 1 0 0]  [ 0  0  0  0  0 -1  0  0]\n",
       "[0 0 0 0 0 0 1 0]  [ 0  0  0  0  0  0 -1  0]\n",
       "[0 0 0 0 0 0 0 1], [ 0  0  0  0  0  0  0 -1]\n",
       "]"
      ]
     },
     "execution_count": 214,
     "metadata": {},
     "output_type": "execute_result"
    }
   ],
   "source": [
    "def compute_M_rho(rho_z):\n",
    "    return matrix(QQ,\n",
    "      [ [1 if zj == zi else -1 if  zj == -zi else 0 for zi in z]\n",
    "        for zj in rho_z])\n",
    "M_rho = map(compute_M_rho, rho_acting_on_z)\n",
    "M_rho[:2]"
   ]
  },
  {
   "cell_type": "code",
   "execution_count": 285,
   "metadata": {},
   "outputs": [
    {
     "data": {
      "text/html": [
       "<html><script type=\"math/tex; mode=display\">\\newcommand{\\Bold}[1]{\\mathbf{#1}}\\left[\\left(\\begin{array}{rr}\n",
       "-w_{79} + 56 & w_{80} \\\\\n",
       "w_{80} & w_{75}\n",
       "\\end{array}\\right), \\left(\\begin{array}{rr}\n",
       "w_{79} & 6 \\, w_{59} - 6 \\, w_{64} + 13 \\, w_{67} - w_{71} + 6 \\, w_{75} - 6 \\, w_{79} + 13 \\, w_{80} + 12 \\, w_{81} + 168 \\\\\n",
       "6 \\, w_{59} - 6 \\, w_{64} + 13 \\, w_{67} - w_{71} + 6 \\, w_{75} - 6 \\, w_{79} + 13 \\, w_{80} + 12 \\, w_{81} + 168 & -2 \\, w_{67} - 2 \\, w_{71} - w_{75} + 12 \\, w_{81}\n",
       "\\end{array}\\right), \\left(\\begin{array}{rr}\n",
       "w_{59} & w_{67} \\\\\n",
       "w_{67} & w_{59} - 2 \\, w_{64} + 2 \\, w_{67} + w_{75} - w_{79} + 2 \\, w_{80} + 2 \\, w_{81} + 28\n",
       "\\end{array}\\right), \\left(\\begin{array}{rr}\n",
       "2 \\, w_{59} - 3 \\, w_{64} + 4 \\, w_{67} + 2 \\, w_{71} + 3 \\, w_{75} - 3 \\, w_{79} + 2 \\, w_{80} + 6 \\, w_{81} + 84 & w_{71} \\\\\n",
       "w_{71} & w_{64}\n",
       "\\end{array}\\right)\\right]</script></html>"
      ],
      "text/plain": [
       "[\n",
       "[-w79 + 56       w80]  [                                                                 w79 6*w59 - 6*w64 + 13*w67 - w71 + 6*w75 - 6*w79 + 13*w80 + 12*w81 + 168]  [                                                 w59                                                  w67]  [2*w59 - 3*w64 + 4*w67 + 2*w71 + 3*w75 - 3*w79 + 2*w80 + 6*w81 + 84                                                                w71]\n",
       "[      w80       w75], [6*w59 - 6*w64 + 13*w67 - w71 + 6*w75 - 6*w79 + 13*w80 + 12*w81 + 168                                        -2*w67 - 2*w71 - w75 + 12*w81], [                                                 w67 w59 - 2*w64 + 2*w67 + w75 - w79 + 2*w80 + 2*w81 + 28], [                                                               w71                                                                w64]\n",
       "]"
      ]
     },
     "execution_count": 285,
     "metadata": {},
     "output_type": "execute_result"
    }
   ],
   "source": [
    "Q_star = sum(M.T *Q_L*M for M in M_rho) / len(M_rho)\n",
    "[Q_star[i:i+2, i:i+2] for i in range(0, 8, 2)]"
   ]
  },
  {
   "cell_type": "markdown",
   "metadata": {},
   "source": [
    "The matrix $Q^*$ has therefore the form\n",
    "$Q^* = diag(Q_1, Q_2, Q_3, Q_4)$,\n",
    "where the $Q_i$ are $2 \\times 2$ symmetric matrices. $Q^* \\succeq 0$ if and only if $Q_1,\\ldots,Q_4 \\succeq 0$"
   ]
  },
  {
   "cell_type": "markdown",
   "metadata": {},
   "source": [
    "# Dual \n",
    "\n",
    "Let us now derive the dual of the previous problem"
   ]
  },
  {
   "cell_type": "code",
   "execution_count": 216,
   "metadata": {},
   "outputs": [
    {
     "data": {
      "text/html": [
       "<html><script type=\"math/tex; mode=display\">\\newcommand{\\Bold}[1]{\\mathbf{#1}}\\left(\\begin{array}{rr|rr|rr|rr}\n",
       "\\mathit{D0}_{00} & \\mathit{D0}_{01} & 0 & 0 & 0 & 0 & 0 & 0 \\\\\n",
       "\\mathit{D0}_{01} & \\mathit{D0}_{11} & 0 & 0 & 0 & 0 & 0 & 0 \\\\\n",
       "\\hline\n",
       " 0 & 0 & \\mathit{D1}_{00} & \\mathit{D1}_{01} & 0 & 0 & 0 & 0 \\\\\n",
       "0 & 0 & \\mathit{D1}_{01} & \\mathit{D1}_{11} & 0 & 0 & 0 & 0 \\\\\n",
       "\\hline\n",
       " 0 & 0 & 0 & 0 & \\mathit{D2}_{00} & \\mathit{D2}_{01} & 0 & 0 \\\\\n",
       "0 & 0 & 0 & 0 & \\mathit{D2}_{01} & \\mathit{D2}_{11} & 0 & 0 \\\\\n",
       "\\hline\n",
       " 0 & 0 & 0 & 0 & 0 & 0 & \\mathit{D3}_{00} & \\mathit{D3}_{01} \\\\\n",
       "0 & 0 & 0 & 0 & 0 & 0 & \\mathit{D3}_{01} & \\mathit{D3}_{11}\n",
       "\\end{array}\\right)</script></html>"
      ],
      "text/plain": [
       "[D0_00 D0_01|    0     0|    0     0|    0     0]\n",
       "[D0_01 D0_11|    0     0|    0     0|    0     0]\n",
       "[-----------+-----------+-----------+-----------]\n",
       "[    0     0|D1_00 D1_01|    0     0|    0     0]\n",
       "[    0     0|D1_01 D1_11|    0     0|    0     0]\n",
       "[-----------+-----------+-----------+-----------]\n",
       "[    0     0|    0     0|D2_00 D2_01|    0     0]\n",
       "[    0     0|    0     0|D2_01 D2_11|    0     0]\n",
       "[-----------+-----------+-----------+-----------]\n",
       "[    0     0|    0     0|    0     0|D3_00 D3_01]\n",
       "[    0     0|    0     0|    0     0|D3_01 D3_11]"
      ]
     },
     "execution_count": 216,
     "metadata": {},
     "output_type": "execute_result"
    }
   ],
   "source": [
    "#DQ is the dual variable\n",
    "DQi = [symb_matrix(2, 'D'+str(i)+'_%d%d', sym=True) for i in range(4)]\n",
    "DQ = block_diagonal_matrix(DQi)\n",
    "DQ"
   ]
  },
  {
   "cell_type": "code",
   "execution_count": 291,
   "metadata": {},
   "outputs": [
    {
     "data": {
      "text/html": [
       "<html><script type=\"math/tex; mode=display\">\\newcommand{\\Bold}[1]{\\mathbf{#1}}\\left(12 \\mathit{D1}_{01} + \\mathit{D2}_{00} + \\mathit{D2}_{11} + 2 \\mathit{D3}_{00}\\right) w_{59} + \\left(-12 \\mathit{D1}_{01} - 2 \\mathit{D2}_{11} - 3 \\mathit{D3}_{00} + \\mathit{D3}_{11}\\right) w_{64} + \\left(26 \\mathit{D1}_{01} - 2 \\mathit{D1}_{11} + 2 \\mathit{D2}_{01} + 2 \\mathit{D2}_{11} + 4 \\mathit{D3}_{00}\\right) w_{67} + \\left(-2 \\mathit{D1}_{01} - 2 \\mathit{D1}_{11} + 2 \\mathit{D3}_{00} + 2 \\mathit{D3}_{01}\\right) w_{71} + \\left(\\mathit{D0}_{11} + 12 \\mathit{D1}_{01} -  \\mathit{D1}_{11} + \\mathit{D2}_{11} + 3 \\mathit{D3}_{00}\\right) w_{75} + \\left(- \\mathit{D0}_{00} + \\mathit{D1}_{00} - 12 \\mathit{D1}_{01} -  \\mathit{D2}_{11} - 3 \\mathit{D3}_{00}\\right) w_{79} + \\left(2 \\mathit{D0}_{01} + 26 \\mathit{D1}_{01} + 2 \\mathit{D2}_{11} + 2 \\mathit{D3}_{00}\\right) w_{80} + \\left(24 \\mathit{D1}_{01} + 12 \\mathit{D1}_{11} + 2 \\mathit{D2}_{11} + 6 \\mathit{D3}_{00} + \\frac{1}{70}\\right) w_{81} + 56 \\mathit{D0}_{00} + 336 \\mathit{D1}_{01} + 28 \\mathit{D2}_{11} + 84 \\mathit{D3}_{00}</script></html>"
      ],
      "text/plain": [
       "(12*D1_01 + D2_00 + D2_11 + 2*D3_00)*w59 + (-12*D1_01 - 2*D2_11 - 3*D3_00 + D3_11)*w64 + (26*D1_01 - 2*D1_11 + 2*D2_01 + 2*D2_11 + 4*D3_00)*w67 + (-2*D1_01 - 2*D1_11 + 2*D3_00 + 2*D3_01)*w71 + (D0_11 + 12*D1_01 - D1_11 + D2_11 + 3*D3_00)*w75 + (-D0_00 + D1_00 - 12*D1_01 - D2_11 - 3*D3_00)*w79 + (2*D0_01 + 26*D1_01 + 2*D2_11 + 2*D3_00)*w80 + (24*D1_01 + 12*D1_11 + 2*D2_11 + 6*D3_00 + 1/70)*w81 + 56*D0_00 + 336*D1_01 + 28*D2_11 + 84*D3_00"
      ]
     },
     "execution_count": 291,
     "metadata": {},
     "output_type": "execute_result"
    }
   ],
   "source": [
    "hessian = lambda pp: jacobian(jacobian(pp, (x,y)), (x,y))\n",
    "dot = lambda u,v: vector(u) * vector(v)\n",
    "mdot = lambda A, B: dot(A.list(), B.list())\n",
    "\n",
    "\n",
    "lagrangian = mdot(DQ, Q_star) + objective\n",
    "var_primal = Q_star.variables()\n",
    "var_dual = DQ.variables()\n",
    "lagrangian = QQ[var_dual][var_primal] (lagrangian)\n",
    "lagrangian\n"
   ]
  },
  {
   "cell_type": "code",
   "execution_count": 292,
   "metadata": {},
   "outputs": [
    {
     "data": {
      "text/html": [
       "<html><script type=\"math/tex; mode=display\">\\newcommand{\\Bold}[1]{\\mathbf{#1}}\\left(\\begin{array}{rrrrrrrr}\n",
       "z_{17} & \\frac{9}{4} \\, z_{13} + \\frac{1}{12} \\, z_{20} + \\frac{13}{2} \\, z_{22} + \\frac{13}{1680} & 0 & 0 & 0 & 0 & 0 & 0 \\\\\n",
       "\\frac{9}{4} \\, z_{13} + \\frac{1}{12} \\, z_{20} + \\frac{13}{2} \\, z_{22} + \\frac{13}{1680} & 7 \\, z_{22} + \\frac{1}{140} & 0 & 0 & 0 & 0 & 0 & 0 \\\\\n",
       "0 & 0 & z_{17} - 6 \\, z_{22} - \\frac{1}{140} & -\\frac{1}{4} \\, z_{13} - \\frac{1}{12} \\, z_{20} - \\frac{1}{2} \\, z_{22} - \\frac{1}{1680} & 0 & 0 & 0 & 0 \\\\\n",
       "0 & 0 & -\\frac{1}{4} \\, z_{13} - \\frac{1}{12} \\, z_{20} - \\frac{1}{2} \\, z_{22} - \\frac{1}{1680} & z_{22} & 0 & 0 & 0 & 0 \\\\\n",
       "0 & 0 & 0 & 0 & z_{13} + 6 \\, z_{22} + \\frac{1}{140} & \\frac{5}{4} \\, z_{13} + \\frac{1}{12} \\, z_{20} + \\frac{15}{2} \\, z_{22} + \\frac{13}{1680} & 0 & 0 \\\\\n",
       "0 & 0 & 0 & 0 & \\frac{5}{4} \\, z_{13} + \\frac{1}{12} \\, z_{20} + \\frac{15}{2} \\, z_{22} + \\frac{13}{1680} & z_{20} & 0 & 0 \\\\\n",
       "0 & 0 & 0 & 0 & 0 & 0 & z_{13} & -\\frac{5}{4} \\, z_{13} - \\frac{1}{12} \\, z_{20} + \\frac{1}{2} \\, z_{22} - \\frac{1}{1680} \\\\\n",
       "0 & 0 & 0 & 0 & 0 & 0 & -\\frac{5}{4} \\, z_{13} - \\frac{1}{12} \\, z_{20} + \\frac{1}{2} \\, z_{22} - \\frac{1}{1680} & z_{20} - 6 \\, z_{22} - \\frac{1}{140}\n",
       "\\end{array}\\right)</script></html>"
      ],
      "text/plain": [
       "[                                    z17 9/4*z13 + 1/12*z20 + 13/2*z22 + 13/1680                                       0                                       0                                       0                                       0                                       0                                       0]\n",
       "[9/4*z13 + 1/12*z20 + 13/2*z22 + 13/1680                           7*z22 + 1/140                                       0                                       0                                       0                                       0                                       0                                       0]\n",
       "[                                      0                                       0                     z17 - 6*z22 - 1/140  -1/4*z13 - 1/12*z20 - 1/2*z22 - 1/1680                                       0                                       0                                       0                                       0]\n",
       "[                                      0                                       0  -1/4*z13 - 1/12*z20 - 1/2*z22 - 1/1680                                     z22                                       0                                       0                                       0                                       0]\n",
       "[                                      0                                       0                                       0                                       0                     z13 + 6*z22 + 1/140 5/4*z13 + 1/12*z20 + 15/2*z22 + 13/1680                                       0                                       0]\n",
       "[                                      0                                       0                                       0                                       0 5/4*z13 + 1/12*z20 + 15/2*z22 + 13/1680                                     z20                                       0                                       0]\n",
       "[                                      0                                       0                                       0                                       0                                       0                                       0                                     z13  -5/4*z13 - 1/12*z20 + 1/2*z22 - 1/1680]\n",
       "[                                      0                                       0                                       0                                       0                                       0                                       0  -5/4*z13 - 1/12*z20 + 1/2*z22 - 1/1680                     z20 - 6*z22 - 1/140]"
      ]
     },
     "execution_count": 292,
     "metadata": {},
     "output_type": "execute_result"
    }
   ],
   "source": [
    "lagrang_coeffs = jacobian(lagrangian, var_primal)[0]\n",
    "lagrang_coeffs = list(lagrang_coeffs)\n",
    "DQ_star = eliminate_var_matrix(DQ, lagrang_coeffs, 'z')\n",
    "DQ_star"
   ]
  },
  {
   "cell_type": "markdown",
   "metadata": {},
   "source": [
    "# use KKT conditions to transform the SDP to a system of polynomial equations"
   ]
  },
  {
   "cell_type": "code",
   "execution_count": 219,
   "metadata": {},
   "outputs": [],
   "source": [
    "R = QQ[DQ_star.variables() + Q_star.variables()]\n",
    "\n",
    "# KKT equations\n",
    "KKT_eqn = (DQ_star * Q_star).list()\n",
    "KKT_eqn = list(set(KKT_eqn))\n",
    "\n",
    "# ideal generated by the KKT equations\n",
    "I = map(lambda p: R(p), KKT_eqn)\n",
    "I = R*I"
   ]
  },
  {
   "cell_type": "code",
   "execution_count": 226,
   "metadata": {},
   "outputs": [
    {
     "name": "stdout",
     "output_type": "stream",
     "text": [
      "Ideal I has 17 equations in 12 variables\n"
     ]
    }
   ],
   "source": [
    "print(\"Ideal I has %d equations in %d variables\" % (len(I.gens()), len(R.gens())))"
   ]
  },
  {
   "cell_type": "code",
   "execution_count": 227,
   "metadata": {},
   "outputs": [
    {
     "data": {
      "text/html": [
       "<html><script type=\"math/tex; mode=display\">\\newcommand{\\Bold}[1]{\\mathbf{#1}}\\left(9 w_{81}^{14} - 2070 w_{81}^{13} + 170888 w_{81}^{12} - 5575088 w_{81}^{11} + 24286192 w_{81}^{10} + 1799298144 w_{81}^{9} - 13606662400 w_{81}^{8} - 140207761920 w_{81}^{7} + 434444465920 w_{81}^{6} + 3454598698496 w_{81}^{5} - 69628131328 w_{81}^{4} - 12362877284352 w_{81}^{3} - 5808164827136 w_{81}^{2} + 2696323768320 w_{81}\\right)\\Bold{Q}[z_{13}, z_{17}, z_{20}, z_{22}, w_{59}, w_{64}, w_{67}, w_{71}, w_{75}, w_{79}, w_{80}, w_{81}]</script></html>"
      ],
      "text/plain": [
       "Ideal (9*w81^14 - 2070*w81^13 + 170888*w81^12 - 5575088*w81^11 + 24286192*w81^10 + 1799298144*w81^9 - 13606662400*w81^8 - 140207761920*w81^7 + 434444465920*w81^6 + 3454598698496*w81^5 - 69628131328*w81^4 - 12362877284352*w81^3 - 5808164827136*w81^2 + 2696323768320*w81) of Multivariate Polynomial Ring in z13, z17, z20, z22, w59, w64, w67, w71, w75, w79, w80, w81 over Rational Field"
      ]
     },
     "execution_count": 227,
     "metadata": {},
     "output_type": "execute_result"
    }
   ],
   "source": [
    "# eliminate all variables except those present in the objective function\n",
    "I_a = I.elimination_ideal([v for v in R.gens() if v not in objective.variables()])\n",
    "I_a"
   ]
  },
  {
   "cell_type": "code",
   "execution_count": 255,
   "metadata": {},
   "outputs": [
    {
     "data": {
      "text/html": [
       "<html><script type=\"math/tex; mode=display\">\\newcommand{\\Bold}[1]{\\mathbf{#1}}\\left[9 w_{81}^{14} - 2070 w_{81}^{13} + 170888 w_{81}^{12} - 5575088 w_{81}^{11} + 24286192 w_{81}^{10} + 1799298144 w_{81}^{9} - 13606662400 w_{81}^{8} - 140207761920 w_{81}^{7} + 434444465920 w_{81}^{6} + 3454598698496 w_{81}^{5} - 69628131328 w_{81}^{4} - 12362877284352 w_{81}^{3} - 5808164827136 w_{81}^{2} + 2696323768320 w_{81}\\right]</script></html>"
      ],
      "text/plain": [
       "[9*w81^14 - 2070*w81^13 + 170888*w81^12 - 5575088*w81^11 + 24286192*w81^10 + 1799298144*w81^9 - 13606662400*w81^8 - 140207761920*w81^7 + 434444465920*w81^6 + 3454598698496*w81^5 - 69628131328*w81^4 - 12362877284352*w81^3 - 5808164827136*w81^2 + 2696323768320*w81]"
      ]
     },
     "execution_count": 255,
     "metadata": {},
     "output_type": "execute_result"
    }
   ],
   "source": [
    "I_a.gens()"
   ]
  },
  {
   "cell_type": "code",
   "execution_count": 256,
   "metadata": {},
   "outputs": [
    {
     "data": {
      "text/html": [
       "<html><script type=\"math/tex; mode=display\">\\newcommand{\\Bold}[1]{\\mathbf{#1}}w_{81} \\cdot (w_{81} - 70) \\cdot (w_{81} - 38) \\cdot (w_{81} - 14) \\cdot (w_{81} - 6) \\cdot (w_{81} - 2) \\cdot (w_{81} + 2) \\cdot (w_{81} + 14) \\cdot (3 w_{81} + 14) \\cdot (3 w_{81}^{2} - 164 w_{81} - 148) \\cdot (w_{81}^{3} - 66 w_{81}^{2} - 340 w_{81} + 104)</script></html>"
      ],
      "text/plain": [
       "w81 * (w81 - 70) * (w81 - 38) * (w81 - 14) * (w81 - 6) * (w81 - 2) * (w81 + 2) * (w81 + 14) * (3*w81 + 14) * (3*w81^2 - 164*w81 - 148) * (w81^3 - 66*w81^2 - 340*w81 + 104)"
      ]
     },
     "execution_count": 256,
     "metadata": {},
     "output_type": "execute_result"
    }
   ],
   "source": [
    "factor(I_a.gens()[0])"
   ]
  },
  {
   "cell_type": "markdown",
   "metadata": {},
   "source": [
    "The elimination ideal $I_a$ is generated by one polynomial of degree 14,\n",
    "\n",
    "$$9*x^14 - 2070*x^13 + 170888*x^12 - 5575088*x^11 + 24286192*x^10 + 1799298144*x^9 - 13606662400*x^8 - 140207761920*x^7 + 434444465920*x^6 + 3454598698496*x^5 - 69628131328*x^4 - 12362877284352*x^3 - 5808164827136*x^2 + 2696323768320*x$$\n",
    "\n",
    "which factors to \n",
    "\n",
    "$$x * (x - 70) * (x - 38) * (x - 14) * (x - 6) * (x - 2) * (x + 2) * (x + 14) * (3*x + 14) * (3*x^2 - 164*x - 148) * (x^3 - 66*x^2 - 340*x + 104)$$\n",
    "\n",
    "The factor if interest to us is \n",
    "$$x^3 - 66\\;x^2 - 340\\;x + 104.$$\n",
    "\n",
    "\n",
    "letting $t = x/70$, we get"
   ]
  },
  {
   "cell_type": "code",
   "execution_count": 305,
   "metadata": {},
   "outputs": [
    {
     "data": {
      "text/html": [
       "<html><script type=\"math/tex; mode=display\">\\newcommand{\\Bold}[1]{\\mathbf{#1}}\\left[\\left(-0.07246205065830763, 1\\right), \\left(0.0041380873389235545, 1\\right), \\left(1.0111811061765266, 1\\right)\\right]</script></html>"
      ],
      "text/plain": [
       "[(-0.07246205065830763, 1),\n",
       " (0.0041380873389235545, 1),\n",
       " (1.0111811061765266, 1)]"
      ]
     },
     "execution_count": 305,
     "metadata": {},
     "output_type": "execute_result"
    }
   ],
   "source": [
    "RDF[y]((x^3 - 66*x^2 - 340*x + 104).subs(x=70*y) / 343000).roots()"
   ]
  },
  {
   "cell_type": "code",
   "execution_count": 298,
   "metadata": {},
   "outputs": [
    {
     "data": {
      "text/html": [
       "<html><script type=\"math/tex; mode=display\">\\newcommand{\\Bold}[1]{\\mathbf{#1}}\\frac{33}{35}</script></html>"
      ],
      "text/plain": [
       "33/35"
      ]
     },
     "execution_count": 298,
     "metadata": {},
     "output_type": "execute_result"
    }
   ],
   "source": [
    "66/70"
   ]
  },
  {
   "cell_type": "code",
   "execution_count": 284,
   "metadata": {},
   "outputs": [
    {
     "data": {
      "image/png": "[encoded data removed]",
      "text/plain": [
       "Graphics object consisting of 1 graphics primitive"
      ]
     },
     "execution_count": 284,
     "metadata": {},
     "output_type": "execute_result"
    }
   ],
   "source": [
    "poly = QQ[x](I_a.gens()[0].subs(w81=x)) / 9\n",
    "#plot([pi for pi,_ in factor(poly)[:]], xmin=-10, xmax=72, ymin=-1e3, ymax=1e2)\n",
    "plot(factor(poly)[-1][0], xmin=-10, xmax=72)#, ymin=-1e3, ymax=1e2)\n"
   ]
  },
  {
   "cell_type": "code",
   "execution_count": 252,
   "metadata": {},
   "outputs": [
    {
     "data": {
      "text/html": [
       "<html><script type=\"math/tex; mode=display\">\\newcommand{\\Bold}[1]{\\mathbf{#1}}\\left[70, 38, 14, 6, 2, 0, -2, -\\frac{14}{3}, -14, -0.888013984688967?, 55.55468065135564?, -5.072343546081534?, 0.2896661137246489?, 70.7826774323569?\\right]</script></html>"
      ],
      "text/plain": [
       "[70, 38, 14, 6, 2, 0, -2, -14/3, -14, -0.888013984688967?, 55.55468065135564?, -5.072343546081534?, 0.2896661137246489?, 70.7826774323569?]"
      ]
     },
     "execution_count": 252,
     "metadata": {},
     "output_type": "execute_result"
    }
   ],
   "source": [
    "roots = matrix.companion(poly).eigenvalues()\n",
    "roots"
   ]
  },
  {
   "cell_type": "code",
   "execution_count": 312,
   "metadata": {},
   "outputs": [
    {
     "data": {
      "text/html": [
       "<html><script type=\"math/tex; mode=display\">\\newcommand{\\Bold}[1]{\\mathbf{#1}}\\left[1, \\frac{19}{35}, \\frac{1}{5}, \\frac{3}{35}, \\frac{1}{35}, 0, -\\frac{1}{35}, -\\frac{1}{15}, -\\frac{1}{5}, -\\frac{16}{105} \\, \\sqrt{7} + \\frac{41}{105}, \\frac{16}{105} \\, \\sqrt{7} + \\frac{41}{105}, -\\frac{1}{140} \\, {\\left(\\frac{14336}{9} i \\, \\sqrt{3} + 14336\\right)}^{\\frac{1}{3}} {\\left(-i \\, \\sqrt{3} + 1\\right)} - \\frac{64 \\, {\\left(i \\, \\sqrt{3} + 1\\right)}}{15 \\, {\\left(\\frac{14336}{9} i \\, \\sqrt{3} + 14336\\right)}^{\\frac{1}{3}}} + \\frac{11}{35}, -\\frac{1}{140} \\, {\\left(\\frac{14336}{9} i \\, \\sqrt{3} + 14336\\right)}^{\\frac{1}{3}} {\\left(i \\, \\sqrt{3} + 1\\right)} - \\frac{64 \\, {\\left(-i \\, \\sqrt{3} + 1\\right)}}{15 \\, {\\left(\\frac{14336}{9} i \\, \\sqrt{3} + 14336\\right)}^{\\frac{1}{3}}} + \\frac{11}{35}, \\frac{1}{70} \\, {\\left(\\frac{14336}{9} i \\, \\sqrt{3} + 14336\\right)}^{\\frac{1}{3}} + \\frac{128}{15 \\, {\\left(\\frac{14336}{9} i \\, \\sqrt{3} + 14336\\right)}^{\\frac{1}{3}}} + \\frac{11}{35}\\right]</script></html>"
      ],
      "text/plain": [
       "[1,\n",
       " 19/35,\n",
       " 1/5,\n",
       " 3/35,\n",
       " 1/35,\n",
       " 0,\n",
       " -1/35,\n",
       " -1/15,\n",
       " -1/5,\n",
       " -16/105*sqrt(7) + 41/105,\n",
       " 16/105*sqrt(7) + 41/105,\n",
       " -1/140*(14336/9*I*sqrt(3) + 14336)^(1/3)*(-I*sqrt(3) + 1) - 64/15*(I*sqrt(3) + 1)/(14336/9*I*sqrt(3) + 14336)^(1/3) + 11/35,\n",
       " -1/140*(14336/9*I*sqrt(3) + 14336)^(1/3)*(I*sqrt(3) + 1) - 64/15*(-I*sqrt(3) + 1)/(14336/9*I*sqrt(3) + 14336)^(1/3) + 11/35,\n",
       " 1/70*(14336/9*I*sqrt(3) + 14336)^(1/3) + 128/15/(14336/9*I*sqrt(3) + 14336)^(1/3) + 11/35]"
      ]
     },
     "execution_count": 312,
     "metadata": {},
     "output_type": "execute_result"
    }
   ],
   "source": [
    "map(lambda r: r.radical_expression()/70, roots)"
   ]
  }
 ],
 "metadata": {
  "@webio": {
   "lastCommId": null,
   "lastKernelId": null
  },
  "kernelspec": {
   "display_name": "SageMath 8.6",
   "language": "",
   "name": "sagemath"
  },
  "language_info": {
   "codemirror_mode": {
    "name": "ipython",
    "version": 2
   },
   "file_extension": ".py",
   "mimetype": "text/x-python",
   "name": "python",
   "nbconvert_exporter": "python",
   "pygments_lexer": "ipython2",
   "version": "2.7.16"
  }
 },
 "nbformat": 4,
 "nbformat_minor": 2
}
