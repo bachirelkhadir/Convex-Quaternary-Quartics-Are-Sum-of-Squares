{
 "cells": [
  {
   "cell_type": "markdown",
   "metadata": {},
   "source": [
    "We want to compute $A^*_4$. In other words, we are looking for the coefficients of a convex polynomial\n",
    "$p(x,y)=\\sum_{i=0}^8 a_i x^i y^{8-i}$\n",
    "that maximizes $\\frac{a_4}{70}$ and satisfies $a_0=a_8=1$.\n",
    "\n",
    "If $p(x, y)$ is an optimal solution, so is $p(y, x)$. We can therefore take $a_i = a_{8 - i}$ for $i=1,\\ldots,7$."
   ]
  },
  {
   "cell_type": "code",
   "execution_count": 10,
   "metadata": {},
   "outputs": [],
   "source": [
    "import numpy as np\n",
    "import sage_sdp  \n",
    "from scipy.sparse import csc_matrix\n",
    "\n",
    "# helper functions for symmetry reduction\n",
    "#import group_morphisms \n",
    "import isotypical_decomposition"
   ]
  },
  {
   "cell_type": "code",
   "execution_count": 2,
   "metadata": {},
   "outputs": [
    {
     "data": {
      "text/html": [
       "<html><script type=\"math/tex; mode=display\">\\newcommand{\\Bold}[1]{\\mathbf{#1}}\\left(a_{1}, a_{2}, a_{3}, a_{4}\\right)</script></html>"
      ],
      "text/plain": [
       "(a1, a2, a3, a4)"
      ]
     },
     "metadata": {},
     "output_type": "display_data"
    },
    {
     "name": "stdout",
     "output_type": "stream",
     "text": [
      "We want to maximize the variable `70*a4` and keep the form below convex.\n"
     ]
    },
    {
     "data": {
      "text/html": [
       "<html><script type=\"math/tex; mode=display\">\\newcommand{\\Bold}[1]{\\mathbf{#1}}x^{8} + \\left(8 a_{1}\\right) x^{7} y + \\left(28 a_{2}\\right) x^{6} y^{2} + \\left(56 a_{3}\\right) x^{5} y^{3} + \\left(70 a_{4}\\right) x^{4} y^{4} + \\left(56 a_{3}\\right) x^{3} y^{5} + \\left(28 a_{2}\\right) x^{2} y^{6} + \\left(8 a_{1}\\right) x y^{7} + y^{8}</script></html>"
      ],
      "text/plain": [
       "x^8 + 8*a1*x^7*y + 28*a2*x^6*y^2 + 56*a3*x^5*y^3 + 70*a4*x^4*y^4 + 56*a3*x^3*y^5 + 28*a2*x^2*y^6 + 8*a1*x*y^7 + y^8"
      ]
     },
     "metadata": {},
     "output_type": "display_data"
    },
    {
     "data": {
      "text/html": [
       "<html><script type=\"math/tex; mode=display\">\\newcommand{\\Bold}[1]{\\mathbf{#1}}\\left(a_{1}, a_{2}, a_{3}, a_{4}\\right)</script></html>"
      ],
      "text/plain": [
       "(a1, a2, a3, a4)"
      ]
     },
     "metadata": {},
     "output_type": "display_data"
    }
   ],
   "source": [
    "d = 4\n",
    "a = tuple([polygen(QQ, 'a'+str(i)) for i in range(1, d+1)])\n",
    "R.<x,y,u,v> = QQ[a]['x,y,u,v']\n",
    "a = tuple(map(R, a))\n",
    "a_repeated = (1,) + a[:-1] + a[::-1] + (1,)\n",
    "show(a)\n",
    "vars = [x,y,u,v]\n",
    "q = sum([ a_repeated[i] * x^i * y^(2*d-i) * binomial(2*d, i)\n",
    "         for i in range(2*d+1)])\n",
    "obj = q.coefficient(x^d*y^d)\n",
    "print \"We want to maximize the variable `{obj}` and keep the form below convex.\"\\\n",
    "            .format(obj=obj)\n",
    "show(q)\n",
    "show(a)"
   ]
  },
  {
   "cell_type": "code",
   "execution_count": 3,
   "metadata": {},
   "outputs": [
    {
     "name": "stdout",
     "output_type": "stream",
     "text": [
      "q sos is equivalent to the form below being sos.\n"
     ]
    },
    {
     "data": {
      "text/html": [
       "<html><script type=\"math/tex; mode=display\">\\newcommand{\\Bold}[1]{\\mathbf{#1}}\\verb|H_quadratic_form|\\phantom{\\verb!x!}\\verb|=| 56 x^{6} u^{2} + \\left(336 a_{1}\\right) x^{5} y u^{2} + \\left(840 a_{2}\\right) x^{4} y^{2} u^{2} + \\left(1120 a_{3}\\right) x^{3} y^{3} u^{2} + \\left(840 a_{4}\\right) x^{2} y^{4} u^{2} + \\left(336 a_{3}\\right) x y^{5} u^{2} + \\left(56 a_{2}\\right) y^{6} u^{2} + \\left(112 a_{1}\\right) x^{6} u v + \\left(672 a_{2}\\right) x^{5} y u v + \\left(1680 a_{3}\\right) x^{4} y^{2} u v + \\left(2240 a_{4}\\right) x^{3} y^{3} u v + \\left(1680 a_{3}\\right) x^{2} y^{4} u v + \\left(672 a_{2}\\right) x y^{5} u v + \\left(112 a_{1}\\right) y^{6} u v + \\left(56 a_{2}\\right) x^{6} v^{2} + \\left(336 a_{3}\\right) x^{5} y v^{2} + \\left(840 a_{4}\\right) x^{4} y^{2} v^{2} + \\left(1120 a_{3}\\right) x^{3} y^{3} v^{2} + \\left(840 a_{2}\\right) x^{2} y^{4} v^{2} + \\left(336 a_{1}\\right) x y^{5} v^{2} + 56 y^{6} v^{2}</script></html>"
      ],
      "text/plain": [
       "'H_quadratic_form = ' 56*x^6*u^2 + 336*a1*x^5*y*u^2 + 840*a2*x^4*y^2*u^2 + 1120*a3*x^3*y^3*u^2 + 840*a4*x^2*y^4*u^2 + 336*a3*x*y^5*u^2 + 56*a2*y^6*u^2 + 112*a1*x^6*u*v + 672*a2*x^5*y*u*v + 1680*a3*x^4*y^2*u*v + 2240*a4*x^3*y^3*u*v + 1680*a3*x^2*y^4*u*v + 672*a2*x*y^5*u*v + 112*a1*y^6*u*v + 56*a2*x^6*v^2 + 336*a3*x^5*y*v^2 + 840*a4*x^4*y^2*v^2 + 1120*a3*x^3*y^3*v^2 + 840*a2*x^2*y^4*v^2 + 336*a1*x*y^5*v^2 + 56*y^6*v^2"
      ]
     },
     "metadata": {},
     "output_type": "display_data"
    }
   ],
   "source": [
    "Hq = jacobian(jacobian(q, (x, y)), (x, y))\n",
    "H_quadratic_form = vector([u, v]) * Hq * vector([u, v])\n",
    "print(\"q sos is equivalent to the form below being sos.\")\n",
    "show(\"H_quadratic_form = \", H_quadratic_form)"
   ]
  },
  {
   "cell_type": "markdown",
   "metadata": {},
   "source": [
    "# SDP formulation"
   ]
  },
  {
   "cell_type": "markdown",
   "metadata": {},
   "source": [
    "`𝙷⎯𝚚𝚞𝚊𝚍𝚛𝚊𝚝𝚒𝚌⎯𝚏𝚘𝚛𝚖` is sos if and only if it can be written as $z^T Q z,$\n",
    "where $Q$ is an $(2d-2)\\times (2d-2)$ psd matrix and $z$ is the vector of monomials. (See below.)"
   ]
  },
  {
   "cell_type": "code",
   "execution_count": 4,
   "metadata": {},
   "outputs": [
    {
     "data": {
      "text/html": [
       "<html><script type=\"math/tex; mode=display\">\\newcommand{\\Bold}[1]{\\mathbf{#1}}\\verb|Consider|\\phantom{\\verb!x!}\\verb|the|\\phantom{\\verb!x!}\\verb|monomials|\\phantom{\\verb!x!}\\verb|in|\\phantom{\\verb!x!}\\verb|(x,y,u,v):| \\left(y^{3} u,\\,x y^{2} u,\\,x^{2} y u,\\,x^{3} u,\\,y^{3} v,\\,x y^{2} v,\\,x^{2} y v,\\,x^{3} v\\right)</script></html>"
      ],
      "text/plain": [
       "'Consider the monomials in (x,y,u,v): ' (y^3*u, x*y^2*u, x^2*y*u, x^3*u, y^3*v, x*y^2*v, x^2*y*v, x^3*v)"
      ]
     },
     "metadata": {},
     "output_type": "display_data"
    },
    {
     "data": {
      "text/html": [
       "<html><script type=\"math/tex; mode=display\">\\newcommand{\\Bold}[1]{\\mathbf{#1}}\\verb|and|\\phantom{\\verb!x!}\\verb|the|\\phantom{\\verb!x!}\\verb|8|\\phantom{\\verb!x!}\\verb|x|\\phantom{\\verb!x!}\\verb|8|\\phantom{\\verb!x!}\\verb|matrix|</script></html>"
      ],
      "text/plain": [
       "'and the 8 x 8 matrix'"
      ]
     },
     "metadata": {},
     "output_type": "display_data"
    },
    {
     "data": {
      "text/html": [
       "<html><script type=\"math/tex; mode=display\">\\newcommand{\\Bold}[1]{\\mathbf{#1}}\\left(\\begin{array}{rrrrr}\n",
       "Q_{11} & Q_{21} & Q_{31} & Q_{41} & Q_{51} \\\\\n",
       "Q_{21} & Q_{22} & Q_{32} & Q_{42} & Q_{52} \\\\\n",
       "Q_{31} & Q_{32} & Q_{33} & Q_{43} & Q_{53} \\\\\n",
       "Q_{41} & Q_{42} & Q_{43} & Q_{44} & Q_{54} \\\\\n",
       "Q_{51} & Q_{52} & Q_{53} & Q_{54} & Q_{55}\n",
       "\\end{array}\\right) \\verb|...|</script></html>"
      ],
      "text/plain": [
       "[Q_11 Q_21 Q_31 Q_41 Q_51]\n",
       "[Q_21 Q_22 Q_32 Q_42 Q_52]\n",
       "[Q_31 Q_32 Q_33 Q_43 Q_53]\n",
       "[Q_41 Q_42 Q_43 Q_44 Q_54]\n",
       "[Q_51 Q_52 Q_53 Q_54 Q_55] '...'"
      ]
     },
     "metadata": {},
     "output_type": "display_data"
    },
    {
     "name": "stdout",
     "output_type": "stream",
     "text": [
      "New decision variables:\n"
     ]
    },
    {
     "data": {
      "text/html": [
       "<html><script type=\"math/tex; mode=display\">\\newcommand{\\Bold}[1]{\\mathbf{#1}}\\left(Q_{11}, Q_{21}, Q_{22}, Q_{31}, Q_{32}, Q_{33}, Q_{41}, Q_{42}, Q_{43}, Q_{44}, Q_{51}, Q_{52}, Q_{53}, Q_{54}, Q_{55}, Q_{61}, Q_{62}, Q_{63}, Q_{64}, Q_{65}, Q_{66}, Q_{71}, Q_{72}, Q_{73}, Q_{74}, Q_{75}, Q_{76}, Q_{77}, Q_{81}, Q_{82}, Q_{83}, Q_{84}, Q_{85}, Q_{86}, Q_{87}, Q_{88}, a_{1}, a_{2}, a_{3}, a_{4}\\right)</script></html>"
      ],
      "text/plain": [
       "(Q_11,\n",
       " Q_21,\n",
       " Q_22,\n",
       " Q_31,\n",
       " Q_32,\n",
       " Q_33,\n",
       " Q_41,\n",
       " Q_42,\n",
       " Q_43,\n",
       " Q_44,\n",
       " Q_51,\n",
       " Q_52,\n",
       " Q_53,\n",
       " Q_54,\n",
       " Q_55,\n",
       " Q_61,\n",
       " Q_62,\n",
       " Q_63,\n",
       " Q_64,\n",
       " Q_65,\n",
       " Q_66,\n",
       " Q_71,\n",
       " Q_72,\n",
       " Q_73,\n",
       " Q_74,\n",
       " Q_75,\n",
       " Q_76,\n",
       " Q_77,\n",
       " Q_81,\n",
       " Q_82,\n",
       " Q_83,\n",
       " Q_84,\n",
       " Q_85,\n",
       " Q_86,\n",
       " Q_87,\n",
       " Q_88,\n",
       " a1,\n",
       " a2,\n",
       " a3,\n",
       " a4)"
      ]
     },
     "metadata": {},
     "output_type": "display_data"
    }
   ],
   "source": [
    "#  H_quadratic_form sos if H_quadratic_form = z *\n",
    "mons_xy = vector([x^i * y^(d-i-1) for i in range(d)])\n",
    "mons = vector(list(u * mons_xy) + list(v * mons_xy))\n",
    "show(\"Consider the monomials in (x,y,u,v): \", mons)\n",
    "show(\"and the {i} x {i} matrix\".format(i=len(mons)))\n",
    "\n",
    "Q = sage_sdp.symb_matrix(len(mons), \"Q\")\n",
    "show(Q[:5, :5], '...')\n",
    "\n",
    "opt_variables = Q.variables() + a\n",
    "print(\"New decision variables:\")\n",
    "show(opt_variables)"
   ]
  },
  {
   "cell_type": "markdown",
   "metadata": {},
   "source": [
    "The identity $u^T\\nabla^2 q u - z^TQz = 0$ is equivalent to a list of equalities involving the coefficients of $Q$ and the vector $a$ linearly  (one for each monomial). We report these linear equalities in the table below"
   ]
  },
  {
   "cell_type": "code",
   "execution_count": 5,
   "metadata": {},
   "outputs": [
    {
     "data": {
      "text/html": [
       "<div class=\"notruncate\">\n",
       "<table  class=\"table_form\">\n",
       "<tbody>\n",
       "<tr>\n",
       "<th>monomial</th>\n",
       "<th>corresponding linear equality</th>\n",
       "</tr>\n",
       "<tr class =\"row-a\">\n",
       "<td><script type=\"math/tex\">x^{6} u^{2}</script></td>\n",
       "<td>-Q_44 + 56=0</td>\n",
       "</tr>\n",
       "<tr class =\"row-b\">\n",
       "<td><script type=\"math/tex\">x^{5} y u^{2}</script></td>\n",
       "<td>-2*Q_43 + 336*a1=0</td>\n",
       "</tr>\n",
       "<tr class =\"row-a\">\n",
       "<td><script type=\"math/tex\">x^{4} y^{2} u^{2}</script></td>\n",
       "<td>-Q_33 - 2*Q_42 + 840*a2=0</td>\n",
       "</tr>\n",
       "<tr class =\"row-b\">\n",
       "<td><script type=\"math/tex\">x^{3} y^{3} u^{2}</script></td>\n",
       "<td>-2*Q_32 - 2*Q_41 + 1120*a3=0</td>\n",
       "</tr>\n",
       "<tr class =\"row-a\">\n",
       "<td><script type=\"math/tex\">x^{2} y^{4} u^{2}</script></td>\n",
       "<td>-Q_22 - 2*Q_31 + 840*a4=0</td>\n",
       "</tr>\n",
       "<tr class =\"row-b\">\n",
       "<td><script type=\"math/tex\">x y^{5} u^{2}</script></td>\n",
       "<td>-2*Q_21 + 336*a3=0</td>\n",
       "</tr>\n",
       "<tr class =\"row-a\">\n",
       "<td><script type=\"math/tex\">y^{6} u^{2}</script></td>\n",
       "<td>-Q_11 + 56*a2=0</td>\n",
       "</tr>\n",
       "<tr class =\"row-b\">\n",
       "<td><script type=\"math/tex\">x^{6} u v</script></td>\n",
       "<td>-2*Q_84 + 112*a1=0</td>\n",
       "</tr>\n",
       "<tr class =\"row-a\">\n",
       "<td><script type=\"math/tex\">x^{5} y u v</script></td>\n",
       "<td>-2*Q_74 - 2*Q_83 + 672*a2=0</td>\n",
       "</tr>\n",
       "<tr class =\"row-b\">\n",
       "<td><script type=\"math/tex\">x^{4} y^{2} u v</script></td>\n",
       "<td>-2*Q_64 - 2*Q_73 - 2*Q_82 + 1680*a3=0</td>\n",
       "</tr>\n",
       "<tr class =\"row-a\">\n",
       "<td><script type=\"math/tex\">x^{3} y^{3} u v</script></td>\n",
       "<td>-2*Q_54 - 2*Q_63 - 2*Q_72 - 2*Q_81 + 2240*a4=0</td>\n",
       "</tr>\n",
       "<tr class =\"row-b\">\n",
       "<td><script type=\"math/tex\">x^{2} y^{4} u v</script></td>\n",
       "<td>-2*Q_53 - 2*Q_62 - 2*Q_71 + 1680*a3=0</td>\n",
       "</tr>\n",
       "<tr class =\"row-a\">\n",
       "<td><script type=\"math/tex\">x y^{5} u v</script></td>\n",
       "<td>-2*Q_52 - 2*Q_61 + 672*a2=0</td>\n",
       "</tr>\n",
       "<tr class =\"row-b\">\n",
       "<td><script type=\"math/tex\">y^{6} u v</script></td>\n",
       "<td>-2*Q_51 + 112*a1=0</td>\n",
       "</tr>\n",
       "<tr class =\"row-a\">\n",
       "<td><script type=\"math/tex\">x^{6} v^{2}</script></td>\n",
       "<td>-Q_88 + 56*a2=0</td>\n",
       "</tr>\n",
       "<tr class =\"row-b\">\n",
       "<td><script type=\"math/tex\">x^{5} y v^{2}</script></td>\n",
       "<td>-2*Q_87 + 336*a3=0</td>\n",
       "</tr>\n",
       "<tr class =\"row-a\">\n",
       "<td><script type=\"math/tex\">x^{4} y^{2} v^{2}</script></td>\n",
       "<td>-Q_77 - 2*Q_86 + 840*a4=0</td>\n",
       "</tr>\n",
       "<tr class =\"row-b\">\n",
       "<td><script type=\"math/tex\">x^{3} y^{3} v^{2}</script></td>\n",
       "<td>-2*Q_76 - 2*Q_85 + 1120*a3=0</td>\n",
       "</tr>\n",
       "<tr class =\"row-a\">\n",
       "<td><script type=\"math/tex\">x^{2} y^{4} v^{2}</script></td>\n",
       "<td>-Q_66 - 2*Q_75 + 840*a2=0</td>\n",
       "</tr>\n",
       "<tr class =\"row-b\">\n",
       "<td><script type=\"math/tex\">x y^{5} v^{2}</script></td>\n",
       "<td>-2*Q_65 + 336*a1=0</td>\n",
       "</tr>\n",
       "<tr class =\"row-a\">\n",
       "<td><script type=\"math/tex\">y^{6} v^{2}</script></td>\n",
       "<td>-Q_55 + 56=0</td>\n",
       "</tr>\n",
       "</tbody>\n",
       "</table>\n",
       "</div>"
      ],
      "text/plain": [
       "  monomial      corresponding linear equality\n",
       "+-------------+------------------------------------------------+\n",
       "  x^6*u^2       -Q_44 + 56=0\n",
       "  x^5*y*u^2     -2*Q_43 + 336*a1=0\n",
       "  x^4*y^2*u^2   -Q_33 - 2*Q_42 + 840*a2=0\n",
       "  x^3*y^3*u^2   -2*Q_32 - 2*Q_41 + 1120*a3=0\n",
       "  x^2*y^4*u^2   -Q_22 - 2*Q_31 + 840*a4=0\n",
       "  x*y^5*u^2     -2*Q_21 + 336*a3=0\n",
       "  y^6*u^2       -Q_11 + 56*a2=0\n",
       "  x^6*u*v       -2*Q_84 + 112*a1=0\n",
       "  x^5*y*u*v     -2*Q_74 - 2*Q_83 + 672*a2=0\n",
       "  x^4*y^2*u*v   -2*Q_64 - 2*Q_73 - 2*Q_82 + 1680*a3=0\n",
       "  x^3*y^3*u*v   -2*Q_54 - 2*Q_63 - 2*Q_72 - 2*Q_81 + 2240*a4=0\n",
       "  x^2*y^4*u*v   -2*Q_53 - 2*Q_62 - 2*Q_71 + 1680*a3=0\n",
       "  x*y^5*u*v     -2*Q_52 - 2*Q_61 + 672*a2=0\n",
       "  y^6*u*v       -2*Q_51 + 112*a1=0\n",
       "  x^6*v^2       -Q_88 + 56*a2=0\n",
       "  x^5*y*v^2     -2*Q_87 + 336*a3=0\n",
       "  x^4*y^2*v^2   -Q_77 - 2*Q_86 + 840*a4=0\n",
       "  x^3*y^3*v^2   -2*Q_76 - 2*Q_85 + 1120*a3=0\n",
       "  x^2*y^4*v^2   -Q_66 - 2*Q_75 + 840*a2=0\n",
       "  x*y^5*v^2     -2*Q_65 + 336*a1=0\n",
       "  y^6*v^2       -Q_55 + 56=0"
      ]
     },
     "execution_count": 5,
     "metadata": {},
     "output_type": "execute_result"
    }
   ],
   "source": [
    "residual = H_quadratic_form - mons * Q * mons\n",
    "RR = QQ[opt_variables][x, y, u, v]\n",
    "residual = RR(residual)\n",
    "linear_eq = residual.coefficients()\n",
    "\n",
    "\n",
    "table([residual.monomials(), [LatexExpr(\"{}=0\".format(mi)) for mi in linear_eq]], \n",
    "      header_column=[\"monomial\", \"corresponding linear equality\"])\\\n",
    "    .transpose()"
   ]
  },
  {
   "cell_type": "markdown",
   "metadata": {},
   "source": [
    "# Construct a symmetry-adapted basis of monomials"
   ]
  },
  {
   "cell_type": "code",
   "execution_count": 6,
   "metadata": {},
   "outputs": [
    {
     "name": "stdout",
     "output_type": "stream",
     "text": [
      "The symmetries of the problem\n"
     ]
    },
    {
     "data": {
      "text/html": [
       "<html><script type=\"math/tex; mode=display\">\\newcommand{\\Bold}[1]{\\mathbf{#1}}\\left[\\left[y, x, v, u\\right], \\left[-x, y, -u, v\\right], \\left[x, -y, -u, v\\right]\\right]</script></html>"
      ],
      "text/plain": [
       "[[y, x, v, u], [-x, y, -u, v], [x, -y, -u, v]]"
      ]
     },
     "metadata": {},
     "output_type": "display_data"
    },
    {
     "name": "stdout",
     "output_type": "stream",
     "text": [
      "are represented by the group of 16 elements:\n"
     ]
    },
    {
     "data": {
      "text/html": [
       "<html><script type=\"math/tex; mode=display\">\\newcommand{\\Bold}[1]{\\mathbf{#1}}\\left\\langle \\left(\\begin{array}{rrrr}\n",
       "0 & 1 & 0 & 0 \\\\\n",
       "1 & 0 & 0 & 0 \\\\\n",
       "0 & 0 & 0 & 1 \\\\\n",
       "0 & 0 & 1 & 0\n",
       "\\end{array}\\right), \\left(\\begin{array}{rrrr}\n",
       "-1 & 0 & 0 & 0 \\\\\n",
       "0 & 1 & 0 & 0 \\\\\n",
       "0 & 0 & -1 & 0 \\\\\n",
       "0 & 0 & 0 & 1\n",
       "\\end{array}\\right), \\left(\\begin{array}{rrrr}\n",
       "1 & 0 & 0 & 0 \\\\\n",
       "0 & -1 & 0 & 0 \\\\\n",
       "0 & 0 & -1 & 0 \\\\\n",
       "0 & 0 & 0 & 1\n",
       "\\end{array}\\right) \\right\\rangle</script></html>"
      ],
      "text/plain": [
       "Matrix group over Rational Field with 3 generators (\n",
       "[0 1 0 0]  [-1  0  0  0]  [ 1  0  0  0]\n",
       "[1 0 0 0]  [ 0  1  0  0]  [ 0 -1  0  0]\n",
       "[0 0 0 1]  [ 0  0 -1  0]  [ 0  0 -1  0]\n",
       "[0 0 1 0], [ 0  0  0  1], [ 0  0  0  1]\n",
       ")"
      ]
     },
     "metadata": {},
     "output_type": "display_data"
    }
   ],
   "source": [
    "# permutation group of symmetries\n",
    "vars = [x, y, u, v]\n",
    "symmetries =[[y,x,v,u],]\n",
    "if d % 2 == 0:\n",
    "    symmetries += [[-x,y,-u,v], [x,-y,-u,v]]\n",
    "else:\n",
    "    symmetries += [[-x,-y,-u,-v]]\n",
    "symmetries_rho = map(lambda sym_i: matrix(QQ, jacobian(sym_i, vars)), symmetries)\n",
    "G_sage = MatrixGroup(symmetries_rho)\n",
    "\n",
    "\n",
    "print(\"The symmetries of the problem\")\n",
    "show(symmetries)\n",
    "print \"are represented by the group of\", len(G_sage), \"elements:\"\n",
    "show(G_sage)"
   ]
  },
  {
   "cell_type": "code",
   "execution_count": 22,
   "metadata": {
    "code_folding": [
     1
    ]
   },
   "outputs": [],
   "source": [
    "\n",
    "def get_irreducible_repr(G_sage):\n",
    "    \"\"\"Utility function to compute irreducible representations of a group using gap.\"\"\"\n",
    "    G_gap = gap.Group(map(lambda M: matrix(QQ, M), G_sage.gens()))\n",
    "    irr_repr = []\n",
    "    gap_irr_repr = gap.IrreducibleRepresentations(G_gap)\n",
    "    characters = gap.Irr( G_gap )\n",
    "    for irr in gap_irr_repr:            \n",
    "        sage_irr = gap.UnderlyingRelation(irr)\n",
    "        sage_irr = sage_irr.AsList()\n",
    "        sage_irr = map(lambda u: list(u.AsList()),\n",
    "                       sage_irr)  \n",
    "        sage_irr = map(lambda elem_img: ((elem_img[0]), \n",
    "                                         elem_img[1].sage()), sage_irr)\n",
    "        gens, vals = zip(*sage_irr)\n",
    "        vals = map(lambda v: matrix(QQ, v), vals)\n",
    "        gens_vals_dict = {G_sage(g): v for g,v in zip(gens, vals)}\n",
    "        hom_irr = lambda g, gens_vals_dict=gens_vals_dict: gens_vals_dict[g]\n",
    "        irr_repr.append(hom_irr)\n",
    "    return irr_repr\n",
    "\n",
    "irr_repr = get_irreducible_repr(G_sage)"
   ]
  },
  {
   "cell_type": "code",
   "execution_count": 23,
   "metadata": {
    "code_folding": [
     1
    ]
   },
   "outputs": [
    {
     "name": "stdout",
     "output_type": "stream",
     "text": [
      "Example of the action of G on the vector of monomials\n"
     ]
    },
    {
     "data": {
      "text/html": [
       "<html><script type=\"math/tex; mode=display\">\\newcommand{\\Bold}[1]{\\mathbf{#1}}\\left(\\begin{array}{rrrr}\n",
       "0 & 1 & 0 & 0 \\\\\n",
       "-1 & 0 & 0 & 0 \\\\\n",
       "0 & 0 & 0 & -1 \\\\\n",
       "0 & 0 & 1 & 0\n",
       "\\end{array}\\right) \\cdot \\left(y^{3} u,\\,x y^{2} u,\\,x^{2} y u,\\,x^{3} u,\\,y^{3} v,\\,x y^{2} v,\\,x^{2} y v,\\,x^{3} v\\right) \\phantom{\\verb!x!}\\verb|=| \\left(x^{3} v,\\,-x^{2} y v,\\,x y^{2} v,\\,-y^{3} v,\\,-x^{3} u,\\,x^{2} y u,\\,-x y^{2} u,\\,y^{3} u\\right)</script></html>"
      ],
      "text/plain": [
       "[ 0  1  0  0]\n",
       "[-1  0  0  0]\n",
       "[ 0  0  0 -1]\n",
       "[ 0  0  1  0] \\cdot (y^3*u, x*y^2*u, x^2*y*u, x^3*u, y^3*v, x*y^2*v, x^2*y*v, x^3*v) ' = ' (x^3*v, -x^2*y*v, x*y^2*v, -y^3*v, -x^3*u, x^2*y*u, -x*y^2*u, y^3*u)"
      ]
     },
     "metadata": {},
     "output_type": "display_data"
    }
   ],
   "source": [
    "# induced action on the vector of monomials z\n",
    "def action_on_monomials(g):\n",
    "    mons_permuted = mons.subs({vi: subi \n",
    "                               for vi, subi in zip(vars, g*vector(vars))})\n",
    "    # construct permutation matrix\n",
    "    col = np.array(range(len(mons)))\n",
    "    basis_idx = {b: i for i,b in enumerate(mons)}\n",
    "    row = [ basis_idx[m] if m in basis_idx else basis_idx[-m]  \n",
    "           for m in mons_permuted]\n",
    "    data = [1 if m in basis_idx else -1 for m in mons_permuted]\n",
    "    return csc_matrix((data, (row, col))).todense()\n",
    "\n",
    "print(\"Example of the action of G on the vector of monomials\")\n",
    "g = G_sage.random_element()\n",
    "show(g, LatexExpr(r\"\\cdot\"), vector(mons),\n",
    "     \" = \", matrix(QQ,action_on_monomials(g)) * mons)"
   ]
  },
  {
   "cell_type": "code",
   "execution_count": 24,
   "metadata": {},
   "outputs": [
    {
     "name": "stdout",
     "output_type": "stream",
     "text": [
      "Symmetry adapted basis:\n"
     ]
    },
    {
     "data": {
      "text/html": [
       "<html><script type=\"math/tex; mode=display\">\\newcommand{\\Bold}[1]{\\mathbf{#1}}\\left[\\left[\\left(x y^{2} u + x^{2} y v,\\,x^{3} u + y^{3} v\\right)\\right], \\left[\\left(y^{3} u + x^{3} v,\\,x^{2} y u + x y^{2} v\\right)\\right], \\left[\\left(x y^{2} u - x^{2} y v,\\,x^{3} u - y^{3} v\\right)\\right], \\left[\\left(y^{3} u - x^{3} v,\\,x^{2} y u - x y^{2} v\\right)\\right]\\right]</script></html>"
      ],
      "text/plain": [
       "[[(x*y^2*u + x^2*y*v, x^3*u + y^3*v)],\n",
       " [(y^3*u + x^3*v, x^2*y*u + x*y^2*v)],\n",
       " [(x*y^2*u - x^2*y*v, x^3*u - y^3*v)],\n",
       " [(y^3*u - x^3*v, x^2*y*u - x*y^2*v)]]"
      ]
     },
     "metadata": {},
     "output_type": "display_data"
    }
   ],
   "source": [
    "# compute a basis for the isotypical compononents of span(mons)\n",
    "basis_iso = [isotypical_decomposition.\\\n",
    "             compute_basis_isotypical_comp(chi, action_on_monomials, G_sage) \n",
    "             for chi in irr_repr]\n",
    "\n",
    "# compute a symmetry adapted basis\n",
    "adapted_basis = []\n",
    "for j, Vj in enumerate(basis_iso):\n",
    "    if Vj is not None: \n",
    "        adapted_basis.append([ Vij * mons for Vij in Vj])\n",
    "        \n",
    "print(\"Symmetry adapted basis:\")\n",
    "show(adapted_basis)"
   ]
  },
  {
   "cell_type": "code",
   "execution_count": 12,
   "metadata": {},
   "outputs": [
    {
     "name": "stdout",
     "output_type": "stream",
     "text": [
      "Let's build the semidefinite program\n",
      "The matrix Q in the symmetry adapted basis has the following block diagonalization (with multiplicity):\n"
     ]
    },
    {
     "data": {
      "text/html": [
       "<html><script type=\"math/tex; mode=display\">\\newcommand{\\Bold}[1]{\\mathbf{#1}}\\left[\\left(1, \\times, \\left(\\begin{array}{rr}\n",
       "\\mathit{Q1}_{11} & \\mathit{Q1}_{21} \\\\\n",
       "\\mathit{Q1}_{21} & \\mathit{Q1}_{22}\n",
       "\\end{array}\\right)\\right), \\left(1, \\times, \\left(\\begin{array}{rr}\n",
       "\\mathit{Q2}_{11} & \\mathit{Q2}_{21} \\\\\n",
       "\\mathit{Q2}_{21} & \\mathit{Q2}_{22}\n",
       "\\end{array}\\right)\\right), \\left(1, \\times, \\left(\\begin{array}{rr}\n",
       "\\mathit{Q3}_{11} & \\mathit{Q3}_{21} \\\\\n",
       "\\mathit{Q3}_{21} & \\mathit{Q3}_{22}\n",
       "\\end{array}\\right)\\right), \\left(1, \\times, \\left(\\begin{array}{rr}\n",
       "\\mathit{Q4}_{11} & \\mathit{Q4}_{21} \\\\\n",
       "\\mathit{Q4}_{21} & \\mathit{Q4}_{22}\n",
       "\\end{array}\\right)\\right)\\right]</script></html>"
      ],
      "text/plain": [
       "[(\n",
       "           [Q1_11 Q1_21]\n",
       "1, \\times, [Q1_21 Q1_22]\n",
       "),\n",
       " (\n",
       "           [Q2_11 Q2_21]\n",
       "1, \\times, [Q2_21 Q2_22]\n",
       "),\n",
       " (\n",
       "           [Q3_11 Q3_21]\n",
       "1, \\times, [Q3_21 Q3_22]\n",
       "),\n",
       " (\n",
       "           [Q4_11 Q4_21]\n",
       "1, \\times, [Q4_21 Q4_22]\n",
       ")]"
      ]
     },
     "metadata": {},
     "output_type": "display_data"
    }
   ],
   "source": [
    "print(\"Let's build the semidefinite program\")\n",
    "size_Qs = map(lambda u: len(u[0]), adapted_basis)\n",
    "Qs = [sage_sdp.symb_matrix(len(bi[0]), \"Q\"+str(i+1)) for i, bi in enumerate(adapted_basis)]\n",
    "print(\"The matrix Q in the symmetry adapted basis has the following block diagonalization (with multiplicity):\")\n",
    "show([(len(bi), LatexExpr(r'\\times'), Qi) for bi, Qi in zip(adapted_basis, Qs)])\n",
    "\n",
    "\n",
    "Qs_vars = tuple(sum([list(Qi.variables()) for Qi in Qs], []))\n",
    "decision_vars = Qs_vars + a\n",
    "RR = QQ[decision_vars][x,y,u,v]\n",
    "reduced_r = RR(H_quadratic_form  - \\\n",
    "       sum( sum( bij*Qi*bij for bij in bi ) for bi, Qi in zip(adapted_basis, Qs) ))"
   ]
  },
  {
   "cell_type": "markdown",
   "metadata": {},
   "source": [
    "The identity $u^T\\nabla^2 q u - z^TQz = 0$ is equivalent to a list of equalities involving the coefficients of $Q$ linearly  (one for each monomial $m$)\n",
    "$$\\langle A_m,  Q\\rangle = 0.$$\n",
    "We report these linear equalities in the table below"
   ]
  },
  {
   "cell_type": "code",
   "execution_count": 13,
   "metadata": {},
   "outputs": [
    {
     "data": {
      "text/html": [
       "<div class=\"notruncate\">\n",
       "<table  class=\"table_form\">\n",
       "<tbody>\n",
       "<tr>\n",
       "<th>monomial</th>\n",
       "<th>corresponding linear equality</th>\n",
       "</tr>\n",
       "<tr class =\"row-a\">\n",
       "<td><script type=\"math/tex\">x^{6} u^{2}</script></td>\n",
       "<td>-Q1_22 - Q3_22 + 56=0</td>\n",
       "</tr>\n",
       "<tr class =\"row-b\">\n",
       "<td><script type=\"math/tex\">x^{5} y u^{2}</script></td>\n",
       "<td>336*a1=0</td>\n",
       "</tr>\n",
       "<tr class =\"row-a\">\n",
       "<td><script type=\"math/tex\">x^{4} y^{2} u^{2}</script></td>\n",
       "<td>-2*Q1_21 - Q2_22 - 2*Q3_21 - Q4_22 + 840*a2=0</td>\n",
       "</tr>\n",
       "<tr class =\"row-b\">\n",
       "<td><script type=\"math/tex\">x^{3} y^{3} u^{2}</script></td>\n",
       "<td>1120*a3=0</td>\n",
       "</tr>\n",
       "<tr class =\"row-a\">\n",
       "<td><script type=\"math/tex\">x^{2} y^{4} u^{2}</script></td>\n",
       "<td>-Q1_11 - 2*Q2_21 - Q3_11 - 2*Q4_21 + 840*a4=0</td>\n",
       "</tr>\n",
       "<tr class =\"row-b\">\n",
       "<td><script type=\"math/tex\">x y^{5} u^{2}</script></td>\n",
       "<td>336*a3=0</td>\n",
       "</tr>\n",
       "<tr class =\"row-a\">\n",
       "<td><script type=\"math/tex\">y^{6} u^{2}</script></td>\n",
       "<td>-Q2_11 - Q4_11 + 56*a2=0</td>\n",
       "</tr>\n",
       "<tr class =\"row-b\">\n",
       "<td><script type=\"math/tex\">x^{6} u v</script></td>\n",
       "<td>112*a1=0</td>\n",
       "</tr>\n",
       "<tr class =\"row-a\">\n",
       "<td><script type=\"math/tex\">x^{5} y u v</script></td>\n",
       "<td>-2*Q1_21 - 2*Q2_21 + 2*Q3_21 + 2*Q4_21 + 672*a2=0</td>\n",
       "</tr>\n",
       "<tr class =\"row-b\">\n",
       "<td><script type=\"math/tex\">x^{4} y^{2} u v</script></td>\n",
       "<td>1680*a3=0</td>\n",
       "</tr>\n",
       "<tr class =\"row-a\">\n",
       "<td><script type=\"math/tex\">x^{3} y^{3} u v</script></td>\n",
       "<td>-2*Q1_11 - 2*Q1_22 - 2*Q2_11 - 2*Q2_22 + 2*Q3_11 + 2*Q3_22 + 2*Q4_11 + 2*Q4_22 + 2240*a4=0</td>\n",
       "</tr>\n",
       "<tr class =\"row-b\">\n",
       "<td><script type=\"math/tex\">x^{2} y^{4} u v</script></td>\n",
       "<td>1680*a3=0</td>\n",
       "</tr>\n",
       "<tr class =\"row-a\">\n",
       "<td><script type=\"math/tex\">x y^{5} u v</script></td>\n",
       "<td>-2*Q1_21 - 2*Q2_21 + 2*Q3_21 + 2*Q4_21 + 672*a2=0</td>\n",
       "</tr>\n",
       "<tr class =\"row-b\">\n",
       "<td><script type=\"math/tex\">y^{6} u v</script></td>\n",
       "<td>112*a1=0</td>\n",
       "</tr>\n",
       "<tr class =\"row-a\">\n",
       "<td><script type=\"math/tex\">x^{6} v^{2}</script></td>\n",
       "<td>-Q2_11 - Q4_11 + 56*a2=0</td>\n",
       "</tr>\n",
       "<tr class =\"row-b\">\n",
       "<td><script type=\"math/tex\">x^{5} y v^{2}</script></td>\n",
       "<td>336*a3=0</td>\n",
       "</tr>\n",
       "<tr class =\"row-a\">\n",
       "<td><script type=\"math/tex\">x^{4} y^{2} v^{2}</script></td>\n",
       "<td>-Q1_11 - 2*Q2_21 - Q3_11 - 2*Q4_21 + 840*a4=0</td>\n",
       "</tr>\n",
       "<tr class =\"row-b\">\n",
       "<td><script type=\"math/tex\">x^{3} y^{3} v^{2}</script></td>\n",
       "<td>1120*a3=0</td>\n",
       "</tr>\n",
       "<tr class =\"row-a\">\n",
       "<td><script type=\"math/tex\">x^{2} y^{4} v^{2}</script></td>\n",
       "<td>-2*Q1_21 - Q2_22 - 2*Q3_21 - Q4_22 + 840*a2=0</td>\n",
       "</tr>\n",
       "<tr class =\"row-b\">\n",
       "<td><script type=\"math/tex\">x y^{5} v^{2}</script></td>\n",
       "<td>336*a1=0</td>\n",
       "</tr>\n",
       "<tr class =\"row-a\">\n",
       "<td><script type=\"math/tex\">y^{6} v^{2}</script></td>\n",
       "<td>-Q1_22 - Q3_22 + 56=0</td>\n",
       "</tr>\n",
       "</tbody>\n",
       "</table>\n",
       "</div>"
      ],
      "text/plain": [
       "  monomial      corresponding linear equality\n",
       "+-------------+--------------------------------------------------------------------------------------------+\n",
       "  x^6*u^2       -Q1_22 - Q3_22 + 56=0\n",
       "  x^5*y*u^2     336*a1=0\n",
       "  x^4*y^2*u^2   -2*Q1_21 - Q2_22 - 2*Q3_21 - Q4_22 + 840*a2=0\n",
       "  x^3*y^3*u^2   1120*a3=0\n",
       "  x^2*y^4*u^2   -Q1_11 - 2*Q2_21 - Q3_11 - 2*Q4_21 + 840*a4=0\n",
       "  x*y^5*u^2     336*a3=0\n",
       "  y^6*u^2       -Q2_11 - Q4_11 + 56*a2=0\n",
       "  x^6*u*v       112*a1=0\n",
       "  x^5*y*u*v     -2*Q1_21 - 2*Q2_21 + 2*Q3_21 + 2*Q4_21 + 672*a2=0\n",
       "  x^4*y^2*u*v   1680*a3=0\n",
       "  x^3*y^3*u*v   -2*Q1_11 - 2*Q1_22 - 2*Q2_11 - 2*Q2_22 + 2*Q3_11 + 2*Q3_22 + 2*Q4_11 + 2*Q4_22 + 2240*a4=0\n",
       "  x^2*y^4*u*v   1680*a3=0\n",
       "  x*y^5*u*v     -2*Q1_21 - 2*Q2_21 + 2*Q3_21 + 2*Q4_21 + 672*a2=0\n",
       "  y^6*u*v       112*a1=0\n",
       "  x^6*v^2       -Q2_11 - Q4_11 + 56*a2=0\n",
       "  x^5*y*v^2     336*a3=0\n",
       "  x^4*y^2*v^2   -Q1_11 - 2*Q2_21 - Q3_11 - 2*Q4_21 + 840*a4=0\n",
       "  x^3*y^3*v^2   1120*a3=0\n",
       "  x^2*y^4*v^2   -2*Q1_21 - Q2_22 - 2*Q3_21 - Q4_22 + 840*a2=0\n",
       "  x*y^5*v^2     336*a1=0\n",
       "  y^6*v^2       -Q1_22 - Q3_22 + 56=0"
      ]
     },
     "execution_count": 13,
     "metadata": {},
     "output_type": "execute_result"
    }
   ],
   "source": [
    "linear_eq = reduced_r.coefficients()\n",
    "table([reduced_r.monomials(), [LatexExpr(\"{}=0\".format(mi)) for mi in linear_eq]], \n",
    "      header_column=[\"monomial\", \"corresponding linear equality\"])\\\n",
    "    .transpose()"
   ]
  },
  {
   "cell_type": "markdown",
   "metadata": {},
   "source": [
    "Full dimensional description of the set\n",
    "\n",
    "$\\mathcal L := \\{ v := (a, Q) \\quad | \\quad \\text{$Q$ is psd and has the block diagonal structure described above and $a$ and $Q$ satisfy the linear equalities above} \\}$\n",
    "$\\mathcal L := \\{ v := (a, Q) \\quad | \\quad \\text{$Q$  is psd and has the block diagonal structure described above and } A v = b \\}$\n",
    "$\\mathcal L := \\{ v := (a, Q) \\quad | \\quad v = v_0 + N \\alpha, \\alpha \\in \\mathbb R^k \\},$\n",
    "where $ker(A) =: \\{N\\alpha | \\alpha \\in \\mathbb R^k\\}$, and $k = dim(Ker(A))$\n",
    "\n",
    "Let us construct the matrix $A$, the vector $b$, the vector $v_0$, and the matrix $N$.\n"
   ]
  },
  {
   "cell_type": "code",
   "execution_count": 14,
   "metadata": {},
   "outputs": [],
   "source": [
    "def get_full_dim_description(linear_eq, vars, name='alpha'):\n",
    "    A = matrix(QQ, jacobian(vector(SR, linear_eq), vector(vars)))\n",
    "    b = vector(linear_eq) - A * vector(vars)\n",
    "    v0 = A.solve_right(b)\n",
    "    ker_A = matrix(SR, A.transpose().kernel().basis())\n",
    "    alpha = tuple([var(name+str(i)) for i in range(1, ker_A.dimensions()[0]+1)])\n",
    "    \n",
    "    full_dim_vars = vector(v0) + ker_A.transpose() * vector(alpha)\n",
    "    assert A * full_dim_vars - b == 0\n",
    "    return full_dim_vars\n",
    "\n",
    "full_dim_vars = get_full_dim_description(linear_eq, decision_vars, 'alpha')\n"
   ]
  },
  {
   "cell_type": "code",
   "execution_count": 15,
   "metadata": {},
   "outputs": [
    {
     "data": {
      "text/html": [
       "<div class=\"notruncate\">\n",
       "<table  class=\"table_form\">\n",
       "<tbody>\n",
       "<tr>\n",
       "<th>original variables</th>\n",
       "<th>full dimensional description</th>\n",
       "</tr>\n",
       "<tr class =\"row-a\">\n",
       "<td><script type=\"math/tex\">\\mathit{Q3}_{21}</script></td>\n",
       "<td><script type=\"math/tex\">\\frac{1}{14} \\, \\alpha_{1} + \\frac{1}{7} \\, \\alpha_{2} - \\frac{3}{7} \\, \\alpha_{3} - \\frac{3}{7} \\, \\alpha_{4} + \\frac{8}{7} \\, \\alpha_{5} - \\frac{3}{7} \\, \\alpha_{6} + \\frac{1}{2} \\, \\alpha_{7}</script></td>\n",
       "</tr>\n",
       "<tr class =\"row-b\">\n",
       "<td><script type=\"math/tex\">\\mathit{Q2}_{21}</script></td>\n",
       "<td><script type=\"math/tex\">\\alpha_{5}</script></td>\n",
       "</tr>\n",
       "<tr class =\"row-a\">\n",
       "<td><script type=\"math/tex\">\\mathit{Q1}_{21}</script></td>\n",
       "<td><script type=\"math/tex\">\\alpha_{2}</script></td>\n",
       "</tr>\n",
       "<tr class =\"row-b\">\n",
       "<td><script type=\"math/tex\">a_{1}</script></td>\n",
       "<td><script type=\"math/tex\">0</script></td>\n",
       "</tr>\n",
       "<tr class =\"row-a\">\n",
       "<td><script type=\"math/tex\">\\mathit{Q4}_{11}</script></td>\n",
       "<td><script type=\"math/tex\">\\alpha_{8}</script></td>\n",
       "</tr>\n",
       "<tr class =\"row-b\">\n",
       "<td><script type=\"math/tex\">\\mathit{Q3}_{11}</script></td>\n",
       "<td><script type=\"math/tex\">\\alpha_{7} - 28</script></td>\n",
       "</tr>\n",
       "<tr class =\"row-a\">\n",
       "<td><script type=\"math/tex\">\\mathit{Q2}_{11}</script></td>\n",
       "<td><script type=\"math/tex\">\\alpha_{4}</script></td>\n",
       "</tr>\n",
       "<tr class =\"row-b\">\n",
       "<td><script type=\"math/tex\">\\mathit{Q1}_{11}</script></td>\n",
       "<td><script type=\"math/tex\">\\alpha_{1} + 28</script></td>\n",
       "</tr>\n",
       "<tr class =\"row-a\">\n",
       "<td><script type=\"math/tex\">a_{4}</script></td>\n",
       "<td><script type=\"math/tex\">\\frac{1}{980} \\, \\alpha_{1} + \\frac{1}{490} \\, \\alpha_{2} + \\frac{1}{980} \\, \\alpha_{3} - \\frac{13}{980} \\, \\alpha_{4} + \\frac{1}{490} \\, \\alpha_{5} + \\frac{1}{980} \\, \\alpha_{6} - \\frac{1}{70} \\, \\alpha_{8}</script></td>\n",
       "</tr>\n",
       "<tr class =\"row-b\">\n",
       "<td><script type=\"math/tex\">\\mathit{Q4}_{22}</script></td>\n",
       "<td><script type=\"math/tex\">-\\frac{1}{7} \\, \\alpha_{1} - \\frac{16}{7} \\, \\alpha_{2} + \\frac{6}{7} \\, \\alpha_{3} + \\frac{111}{7} \\, \\alpha_{4} - \\frac{16}{7} \\, \\alpha_{5} - \\frac{1}{7} \\, \\alpha_{6} - \\alpha_{7} + 15 \\, \\alpha_{8}</script></td>\n",
       "</tr>\n",
       "<tr class =\"row-a\">\n",
       "<td><script type=\"math/tex\">\\mathit{Q3}_{22}</script></td>\n",
       "<td><script type=\"math/tex\">-\\alpha_{3}</script></td>\n",
       "</tr>\n",
       "<tr class =\"row-b\">\n",
       "<td><script type=\"math/tex\">\\mathit{Q2}_{22}</script></td>\n",
       "<td><script type=\"math/tex\">\\alpha_{6}</script></td>\n",
       "</tr>\n",
       "<tr class =\"row-a\">\n",
       "<td><script type=\"math/tex\">\\mathit{Q1}_{22}</script></td>\n",
       "<td><script type=\"math/tex\">\\alpha_{3} - 56</script></td>\n",
       "</tr>\n",
       "<tr class =\"row-b\">\n",
       "<td><script type=\"math/tex\">a_{3}</script></td>\n",
       "<td><script type=\"math/tex\">0</script></td>\n",
       "</tr>\n",
       "<tr class =\"row-a\">\n",
       "<td><script type=\"math/tex\">a_{2}</script></td>\n",
       "<td><script type=\"math/tex\">\\frac{1}{56} \\, \\alpha_{4} + \\frac{1}{56} \\, \\alpha_{8}</script></td>\n",
       "</tr>\n",
       "<tr class =\"row-b\">\n",
       "<td><script type=\"math/tex\">\\mathit{Q4}_{21}</script></td>\n",
       "<td><script type=\"math/tex\">-\\frac{1}{14} \\, \\alpha_{1} + \\frac{6}{7} \\, \\alpha_{2} + \\frac{3}{7} \\, \\alpha_{3} - \\frac{39}{7} \\, \\alpha_{4} - \\frac{1}{7} \\, \\alpha_{5} + \\frac{3}{7} \\, \\alpha_{6} - \\frac{1}{2} \\, \\alpha_{7} - 6 \\, \\alpha_{8}</script></td>\n",
       "</tr>\n",
       "</tbody>\n",
       "</table>\n",
       "</div>"
      ],
      "text/plain": [
       "  original variables   full dimensional description\n",
       "+--------------------+--------------------------------------------------------------------------------------------------------+\n",
       "  Q3_21                1/14*alpha1 + 1/7*alpha2 - 3/7*alpha3 - 3/7*alpha4 + 8/7*alpha5 - 3/7*alpha6 + 1/2*alpha7\n",
       "  Q2_21                alpha5\n",
       "  Q1_21                alpha2\n",
       "  a1                   0\n",
       "  Q4_11                alpha8\n",
       "  Q3_11                alpha7 - 28\n",
       "  Q2_11                alpha4\n",
       "  Q1_11                alpha1 + 28\n",
       "  a4                   1/980*alpha1 + 1/490*alpha2 + 1/980*alpha3 - 13/980*alpha4 + 1/490*alpha5 + 1/980*alpha6 - 1/70*alpha8\n",
       "  Q4_22                -1/7*alpha1 - 16/7*alpha2 + 6/7*alpha3 + 111/7*alpha4 - 16/7*alpha5 - 1/7*alpha6 - alpha7 + 15*alpha8\n",
       "  Q3_22                -alpha3\n",
       "  Q2_22                alpha6\n",
       "  Q1_22                alpha3 - 56\n",
       "  a3                   0\n",
       "  a2                   1/56*alpha4 + 1/56*alpha8\n",
       "  Q4_21                -1/14*alpha1 + 6/7*alpha2 + 3/7*alpha3 - 39/7*alpha4 - 1/7*alpha5 + 3/7*alpha6 - 1/2*alpha7 - 6*alpha8"
      ]
     },
     "execution_count": 15,
     "metadata": {},
     "output_type": "execute_result"
    }
   ],
   "source": [
    "original_to_full_dim = dict(zip(list(map(SR, decision_vars)), list(full_dim_vars)))\n",
    "table([original_to_full_dim.keys(), original_to_full_dim.values()], \n",
    "      header_column=[\"original variables\", \"full dimensional description\"]).transpose()"
   ]
  },
  {
   "cell_type": "code",
   "execution_count": 16,
   "metadata": {},
   "outputs": [
    {
     "data": {
      "text/html": [
       "<html><script type=\"math/tex; mode=display\">\\newcommand{\\Bold}[1]{\\mathbf{#1}}\\verb|max| \\frac{1}{980} \\, \\alpha_{1} + \\frac{1}{490} \\, \\alpha_{2} + \\frac{1}{980} \\, \\alpha_{3} - \\frac{13}{980} \\, \\alpha_{4} + \\frac{1}{490} \\, \\alpha_{5} + \\frac{1}{980} \\, \\alpha_{6} - \\frac{1}{70} \\, \\alpha_{8}</script></html>"
      ],
      "text/plain": [
       "'max ' 1/980*alpha1 + 1/490*alpha2 + 1/980*alpha3 - 13/980*alpha4 + 1/490*alpha5 + 1/980*alpha6 - 1/70*alpha8"
      ]
     },
     "metadata": {},
     "output_type": "display_data"
    },
    {
     "data": {
      "text/html": [
       "<html><script type=\"math/tex; mode=display\">\\newcommand{\\Bold}[1]{\\mathbf{#1}}\\verb|s.t.|\\phantom{\\verb!x!}\\verb|the|\\phantom{\\verb!x!}\\verb|following|\\phantom{\\verb!x!}\\verb|matrix|\\phantom{\\verb!x!}\\verb|is|\\phantom{\\verb!x!}\\verb|psd|</script></html>"
      ],
      "text/plain": [
       "'s.t. the following matrix is psd'"
      ]
     },
     "metadata": {},
     "output_type": "display_data"
    },
    {
     "data": {
      "text/html": [
       "<html><script type=\"math/tex; mode=display\">\\newcommand{\\Bold}[1]{\\mathbf{#1}}\\left(\\begin{array}{rr|rr|rr|rr}\n",
       "\\alpha_{1} + 28 & \\alpha_{2} & 0 & 0 & 0 & 0 & 0 & 0 \\\\\n",
       "\\alpha_{2} & \\alpha_{3} - 56 & 0 & 0 & 0 & 0 & 0 & 0 \\\\\n",
       "\\hline\n",
       " 0 & 0 & \\alpha_{4} & \\alpha_{5} & 0 & 0 & 0 & 0 \\\\\n",
       "0 & 0 & \\alpha_{5} & \\alpha_{6} & 0 & 0 & 0 & 0 \\\\\n",
       "\\hline\n",
       " 0 & 0 & 0 & 0 & \\alpha_{7} - 28 & \\frac{1}{14} \\, \\alpha_{1} + \\frac{1}{7} \\, \\alpha_{2} - \\frac{3}{7} \\, \\alpha_{3} - \\frac{3}{7} \\, \\alpha_{4} + \\frac{8}{7} \\, \\alpha_{5} - \\frac{3}{7} \\, \\alpha_{6} + \\frac{1}{2} \\, \\alpha_{7} & 0 & 0 \\\\\n",
       "0 & 0 & 0 & 0 & \\frac{1}{14} \\, \\alpha_{1} + \\frac{1}{7} \\, \\alpha_{2} - \\frac{3}{7} \\, \\alpha_{3} - \\frac{3}{7} \\, \\alpha_{4} + \\frac{8}{7} \\, \\alpha_{5} - \\frac{3}{7} \\, \\alpha_{6} + \\frac{1}{2} \\, \\alpha_{7} & -\\alpha_{3} & 0 & 0 \\\\\n",
       "\\hline\n",
       " 0 & 0 & 0 & 0 & 0 & 0 & \\alpha_{8} & -\\frac{1}{14} \\, \\alpha_{1} + \\frac{6}{7} \\, \\alpha_{2} + \\frac{3}{7} \\, \\alpha_{3} - \\frac{39}{7} \\, \\alpha_{4} - \\frac{1}{7} \\, \\alpha_{5} + \\frac{3}{7} \\, \\alpha_{6} - \\frac{1}{2} \\, \\alpha_{7} - 6 \\, \\alpha_{8} \\\\\n",
       "0 & 0 & 0 & 0 & 0 & 0 & -\\frac{1}{14} \\, \\alpha_{1} + \\frac{6}{7} \\, \\alpha_{2} + \\frac{3}{7} \\, \\alpha_{3} - \\frac{39}{7} \\, \\alpha_{4} - \\frac{1}{7} \\, \\alpha_{5} + \\frac{3}{7} \\, \\alpha_{6} - \\frac{1}{2} \\, \\alpha_{7} - 6 \\, \\alpha_{8} & -\\frac{1}{7} \\, \\alpha_{1} - \\frac{16}{7} \\, \\alpha_{2} + \\frac{6}{7} \\, \\alpha_{3} + \\frac{111}{7} \\, \\alpha_{4} - \\frac{16}{7} \\, \\alpha_{5} - \\frac{1}{7} \\, \\alpha_{6} - \\alpha_{7} + 15 \\, \\alpha_{8}\n",
       "\\end{array}\\right)</script></html>"
      ],
      "text/plain": [
       "[                                                                                           alpha1 + 28                                                                                                 alpha2|                                                                                                     0                                                                                                      0|                                                                                                     0                                                                                                      0|                                                                                                     0                                                                                                      0]\n",
       "[                                                                                                alpha2                                                                                            alpha3 - 56|                                                                                                     0                                                                                                      0|                                                                                                     0                                                                                                      0|                                                                                                     0                                                                                                      0]\n",
       "[-------------------------------------------------------------------------------------------------------------------------------------------------------------------------------------------------------------+-------------------------------------------------------------------------------------------------------------------------------------------------------------------------------------------------------------+-------------------------------------------------------------------------------------------------------------------------------------------------------------------------------------------------------------+-------------------------------------------------------------------------------------------------------------------------------------------------------------------------------------------------------------]\n",
       "[                                                                                                     0                                                                                                      0|                                                                                                alpha4                                                                                                 alpha5|                                                                                                     0                                                                                                      0|                                                                                                     0                                                                                                      0]\n",
       "[                                                                                                     0                                                                                                      0|                                                                                                alpha5                                                                                                 alpha6|                                                                                                     0                                                                                                      0|                                                                                                     0                                                                                                      0]\n",
       "[-------------------------------------------------------------------------------------------------------------------------------------------------------------------------------------------------------------+-------------------------------------------------------------------------------------------------------------------------------------------------------------------------------------------------------------+-------------------------------------------------------------------------------------------------------------------------------------------------------------------------------------------------------------+-------------------------------------------------------------------------------------------------------------------------------------------------------------------------------------------------------------]\n",
       "[                                                                                                     0                                                                                                      0|                                                                                                     0                                                                                                      0|                                                                                           alpha7 - 28              1/14*alpha1 + 1/7*alpha2 - 3/7*alpha3 - 3/7*alpha4 + 8/7*alpha5 - 3/7*alpha6 + 1/2*alpha7|                                                                                                     0                                                                                                      0]\n",
       "[                                                                                                     0                                                                                                      0|                                                                                                     0                                                                                                      0|             1/14*alpha1 + 1/7*alpha2 - 3/7*alpha3 - 3/7*alpha4 + 8/7*alpha5 - 3/7*alpha6 + 1/2*alpha7                                                                                                -alpha3|                                                                                                     0                                                                                                      0]\n",
       "[-------------------------------------------------------------------------------------------------------------------------------------------------------------------------------------------------------------+-------------------------------------------------------------------------------------------------------------------------------------------------------------------------------------------------------------+-------------------------------------------------------------------------------------------------------------------------------------------------------------------------------------------------------------+-------------------------------------------------------------------------------------------------------------------------------------------------------------------------------------------------------------]\n",
       "[                                                                                                     0                                                                                                      0|                                                                                                     0                                                                                                      0|                                                                                                     0                                                                                                      0|                                                                                                alpha8 -1/14*alpha1 + 6/7*alpha2 + 3/7*alpha3 - 39/7*alpha4 - 1/7*alpha5 + 3/7*alpha6 - 1/2*alpha7 - 6*alpha8]\n",
       "[                                                                                                     0                                                                                                      0|                                                                                                     0                                                                                                      0|                                                                                                     0                                                                                                      0|-1/14*alpha1 + 6/7*alpha2 + 3/7*alpha3 - 39/7*alpha4 - 1/7*alpha5 + 3/7*alpha6 - 1/2*alpha7 - 6*alpha8  -1/7*alpha1 - 16/7*alpha2 + 6/7*alpha3 + 111/7*alpha4 - 16/7*alpha5 - 1/7*alpha6 - alpha7 + 15*alpha8]"
      ]
     },
     "metadata": {},
     "output_type": "display_data"
    }
   ],
   "source": [
    "def sub_list_matrices(list_matrices, subs):\n",
    "    \"\"\"Substitue according to the dict `subs`.\"\"\"\n",
    "    sub_map = lambda Mij: Mij.subs(subs)\n",
    "    return list(map(lambda M: M.apply_map(sub_map), list_matrices))\n",
    "\n",
    "Q_reduced = block_diagonal_matrix(sub_list_matrices(Qs, original_to_full_dim))\n",
    "objective_reduced = original_to_full_dim[SR(a[-1])]\n",
    "show(\"max \", objective_reduced)\n",
    "show(\"s.t. the following matrix is psd\")\n",
    "show(Q_reduced)"
   ]
  },
  {
   "cell_type": "markdown",
   "metadata": {},
   "source": [
    "# Dual problem"
   ]
  },
  {
   "cell_type": "code",
   "execution_count": 17,
   "metadata": {},
   "outputs": [
    {
     "data": {
      "text/html": [
       "<html><script type=\"math/tex; mode=display\">\\newcommand{\\Bold}[1]{\\mathbf{#1}}\\left(\\begin{array}{rr|rr|rr|rr}\n",
       "\\mathit{D0}_{11} & \\mathit{D0}_{21} & 0 & 0 & 0 & 0 & 0 & 0 \\\\\n",
       "\\mathit{D0}_{21} & \\mathit{D0}_{22} & 0 & 0 & 0 & 0 & 0 & 0 \\\\\n",
       "\\hline\n",
       " 0 & 0 & \\mathit{D1}_{11} & \\mathit{D1}_{21} & 0 & 0 & 0 & 0 \\\\\n",
       "0 & 0 & \\mathit{D1}_{21} & \\mathit{D1}_{22} & 0 & 0 & 0 & 0 \\\\\n",
       "\\hline\n",
       " 0 & 0 & 0 & 0 & \\mathit{D2}_{11} & \\mathit{D2}_{21} & 0 & 0 \\\\\n",
       "0 & 0 & 0 & 0 & \\mathit{D2}_{21} & \\mathit{D2}_{22} & 0 & 0 \\\\\n",
       "\\hline\n",
       " 0 & 0 & 0 & 0 & 0 & 0 & \\mathit{D3}_{11} & \\mathit{D3}_{21} \\\\\n",
       "0 & 0 & 0 & 0 & 0 & 0 & \\mathit{D3}_{21} & \\mathit{D3}_{22}\n",
       "\\end{array}\\right)</script></html>"
      ],
      "text/plain": [
       "[D0_11 D0_21|    0     0|    0     0|    0     0]\n",
       "[D0_21 D0_22|    0     0|    0     0|    0     0]\n",
       "[-----------+-----------+-----------+-----------]\n",
       "[    0     0|D1_11 D1_21|    0     0|    0     0]\n",
       "[    0     0|D1_21 D1_22|    0     0|    0     0]\n",
       "[-----------+-----------+-----------+-----------]\n",
       "[    0     0|    0     0|D2_11 D2_21|    0     0]\n",
       "[    0     0|    0     0|D2_21 D2_22|    0     0]\n",
       "[-----------+-----------+-----------+-----------]\n",
       "[    0     0|    0     0|    0     0|D3_11 D3_21]\n",
       "[    0     0|    0     0|    0     0|D3_21 D3_22]"
      ]
     },
     "metadata": {},
     "output_type": "display_data"
    }
   ],
   "source": [
    "Ds = [sage_sdp.symb_matrix(2, \"D{}\".format(i)) for i in range(4)]\n",
    "D = block_diagonal_matrix(Ds)\n",
    "show(D)"
   ]
  },
  {
   "cell_type": "code",
   "execution_count": 18,
   "metadata": {
    "code_folding": []
   },
   "outputs": [
    {
     "data": {
      "text/html": [
       "<html><script type=\"math/tex; mode=display\">\\newcommand{\\Bold}[1]{\\mathbf{#1}}\\mathcal L(\\alpha, D) =  \\left(\\mathit{D0}_{11} + \\frac{1}{7} \\mathit{D2}_{21} - \\frac{1}{7} \\mathit{D3}_{21} - \\frac{1}{7} \\mathit{D3}_{22} + \\frac{1}{980}\\right) \\alpha_{1} + \\left(2 \\mathit{D0}_{21} + \\frac{2}{7} \\mathit{D2}_{21} + \\frac{12}{7} \\mathit{D3}_{21} - \\frac{16}{7} \\mathit{D3}_{22} + \\frac{1}{490}\\right) \\alpha_{2} + \\left(\\mathit{D0}_{22} - \\frac{6}{7} \\mathit{D2}_{21} -  \\mathit{D2}_{22} + \\frac{6}{7} \\mathit{D3}_{21} + \\frac{6}{7} \\mathit{D3}_{22} + \\frac{1}{980}\\right) \\alpha_{3} + \\left(\\mathit{D1}_{11} - \\frac{6}{7} \\mathit{D2}_{21} - \\frac{78}{7} \\mathit{D3}_{21} + \\frac{111}{7} \\mathit{D3}_{22} - \\frac{13}{980}\\right) \\alpha_{4} + \\left(2 \\mathit{D1}_{21} + \\frac{16}{7} \\mathit{D2}_{21} - \\frac{2}{7} \\mathit{D3}_{21} - \\frac{16}{7} \\mathit{D3}_{22} + \\frac{1}{490}\\right) \\alpha_{5} + \\left(\\mathit{D1}_{22} - \\frac{6}{7} \\mathit{D2}_{21} + \\frac{6}{7} \\mathit{D3}_{21} - \\frac{1}{7} \\mathit{D3}_{22} + \\frac{1}{980}\\right) \\alpha_{6} + \\left(\\mathit{D2}_{11} + \\mathit{D2}_{21} -  \\mathit{D3}_{21} -  \\mathit{D3}_{22}\\right) \\alpha_{7} + \\left(\\mathit{D3}_{11} - 12 \\mathit{D3}_{21} + 15 \\mathit{D3}_{22} - \\frac{1}{70}\\right) \\alpha_{8} + 28 \\mathit{D0}_{11} - 56 \\mathit{D0}_{22} - 28 \\mathit{D2}_{11}</script></html>"
      ],
      "text/plain": [
       "\\mathcal L(\\alpha, D) =  (D0_11 + 1/7*D2_21 - 1/7*D3_21 - 1/7*D3_22 + 1/980)*alpha1 + (2*D0_21 + 2/7*D2_21 + 12/7*D3_21 - 16/7*D3_22 + 1/490)*alpha2 + (D0_22 - 6/7*D2_21 - D2_22 + 6/7*D3_21 + 6/7*D3_22 + 1/980)*alpha3 + (D1_11 - 6/7*D2_21 - 78/7*D3_21 + 111/7*D3_22 - 13/980)*alpha4 + (2*D1_21 + 16/7*D2_21 - 2/7*D3_21 - 16/7*D3_22 + 1/490)*alpha5 + (D1_22 - 6/7*D2_21 + 6/7*D3_21 - 1/7*D3_22 + 1/980)*alpha6 + (D2_11 + D2_21 - D3_21 - D3_22)*alpha7 + (D3_11 - 12*D3_21 + 15*D3_22 - 1/70)*alpha8 + 28*D0_11 - 56*D0_22 - 28*D2_11"
      ]
     },
     "metadata": {},
     "output_type": "display_data"
    }
   ],
   "source": [
    "hessian = lambda pp: jacobian(jacobian(pp, (x,y)), (x,y))\n",
    "dot = lambda u,v: vector(u) * vector(v)\n",
    "mdot = lambda A, B: dot(A.list(), B.list())\n",
    "\n",
    "\n",
    "lagrangian = mdot(D, Q_reduced) + objective_reduced\n",
    "var_primal = Q_reduced.variables()\n",
    "var_dual = D.variables()\n",
    "lagrangian = QQ[var_dual][var_primal] (lagrangian)\n",
    "show(LatexExpr(r\"\\mathcal L(\\alpha, D) = \"), lagrangian)"
   ]
  },
  {
   "cell_type": "code",
   "execution_count": 19,
   "metadata": {},
   "outputs": [
    {
     "data": {
      "text/plain": [
       "(beta1 + 1/980, beta2 + 1/980, beta3 + 1/980, beta4 - 13/980, 5*beta1 + 5*beta2 + 1/3*beta4 + 1/980, -4*beta1 - 4*beta2 - 1/3*beta4 + 1/980, 7*beta1, -2*beta1 - 9*beta2 - 2/3*beta4, 6*beta1 + beta3, 6*beta1 + beta4 - 1/70, 3*beta1 - 5*beta2 - 1/3*beta4, 2*beta1 - 4*beta2 - 1/3*beta4)"
      ]
     },
     "execution_count": 19,
     "metadata": {},
     "output_type": "execute_result"
    }
   ],
   "source": [
    "# Find a full rank description of the dual varialbe DQ\n",
    "lagrang_coeffs = jacobian(lagrangian, var_primal)[0]\n",
    "lagrang_coeffs = list(lagrang_coeffs)\n",
    "full_dim_vars_dual = get_full_dim_description(lagrang_coeffs, var_dual, 'beta')\n",
    "full_dim_vars_dual"
   ]
  },
  {
   "cell_type": "code",
   "execution_count": 20,
   "metadata": {},
   "outputs": [
    {
     "data": {
      "text/html": [
       "<div class=\"notruncate\">\n",
       "<table  class=\"table_form\">\n",
       "<tbody>\n",
       "<tr>\n",
       "<th>original dual variables</th>\n",
       "<th>full dimensional description</th>\n",
       "</tr>\n",
       "<tr class =\"row-a\">\n",
       "<td><script type=\"math/tex\">\\mathit{D3}_{22}</script></td>\n",
       "<td><script type=\"math/tex\">2 \\, \\beta_{1} - 4 \\, \\beta_{2} - \\frac{1}{3} \\, \\beta_{4}</script></td>\n",
       "</tr>\n",
       "<tr class =\"row-b\">\n",
       "<td><script type=\"math/tex\">\\mathit{D2}_{22}</script></td>\n",
       "<td><script type=\"math/tex\">6 \\, \\beta_{1} + \\beta_{3}</script></td>\n",
       "</tr>\n",
       "<tr class =\"row-a\">\n",
       "<td><script type=\"math/tex\">\\mathit{D1}_{22}</script></td>\n",
       "<td><script type=\"math/tex\">-4 \\, \\beta_{1} - 4 \\, \\beta_{2} - \\frac{1}{3} \\, \\beta_{4} + \\frac{1}{980}</script></td>\n",
       "</tr>\n",
       "<tr class =\"row-b\">\n",
       "<td><script type=\"math/tex\">\\mathit{D0}_{22}</script></td>\n",
       "<td><script type=\"math/tex\">\\beta_{3} + \\frac{1}{980}</script></td>\n",
       "</tr>\n",
       "<tr class =\"row-a\">\n",
       "<td><script type=\"math/tex\">\\mathit{D3}_{21}</script></td>\n",
       "<td><script type=\"math/tex\">3 \\, \\beta_{1} - 5 \\, \\beta_{2} - \\frac{1}{3} \\, \\beta_{4}</script></td>\n",
       "</tr>\n",
       "<tr class =\"row-b\">\n",
       "<td><script type=\"math/tex\">\\mathit{D2}_{21}</script></td>\n",
       "<td><script type=\"math/tex\">-2 \\, \\beta_{1} - 9 \\, \\beta_{2} - \\frac{2}{3} \\, \\beta_{4}</script></td>\n",
       "</tr>\n",
       "<tr class =\"row-a\">\n",
       "<td><script type=\"math/tex\">\\mathit{D1}_{21}</script></td>\n",
       "<td><script type=\"math/tex\">5 \\, \\beta_{1} + 5 \\, \\beta_{2} + \\frac{1}{3} \\, \\beta_{4} + \\frac{1}{980}</script></td>\n",
       "</tr>\n",
       "<tr class =\"row-b\">\n",
       "<td><script type=\"math/tex\">\\mathit{D0}_{21}</script></td>\n",
       "<td><script type=\"math/tex\">\\beta_{2} + \\frac{1}{980}</script></td>\n",
       "</tr>\n",
       "<tr class =\"row-a\">\n",
       "<td><script type=\"math/tex\">\\mathit{D3}_{11}</script></td>\n",
       "<td><script type=\"math/tex\">6 \\, \\beta_{1} + \\beta_{4} - \\frac{1}{70}</script></td>\n",
       "</tr>\n",
       "<tr class =\"row-b\">\n",
       "<td><script type=\"math/tex\">\\mathit{D2}_{11}</script></td>\n",
       "<td><script type=\"math/tex\">7 \\, \\beta_{1}</script></td>\n",
       "</tr>\n",
       "<tr class =\"row-a\">\n",
       "<td><script type=\"math/tex\">\\mathit{D1}_{11}</script></td>\n",
       "<td><script type=\"math/tex\">\\beta_{4} - \\frac{13}{980}</script></td>\n",
       "</tr>\n",
       "<tr class =\"row-b\">\n",
       "<td><script type=\"math/tex\">\\mathit{D0}_{11}</script></td>\n",
       "<td><script type=\"math/tex\">\\beta_{1} + \\frac{1}{980}</script></td>\n",
       "</tr>\n",
       "</tbody>\n",
       "</table>\n",
       "</div>"
      ],
      "text/plain": [
       "  original dual variables   full dimensional description\n",
       "+-------------------------+----------------------------------------+\n",
       "  D3_22                     2*beta1 - 4*beta2 - 1/3*beta4\n",
       "  D2_22                     6*beta1 + beta3\n",
       "  D1_22                     -4*beta1 - 4*beta2 - 1/3*beta4 + 1/980\n",
       "  D0_22                     beta3 + 1/980\n",
       "  D3_21                     3*beta1 - 5*beta2 - 1/3*beta4\n",
       "  D2_21                     -2*beta1 - 9*beta2 - 2/3*beta4\n",
       "  D1_21                     5*beta1 + 5*beta2 + 1/3*beta4 + 1/980\n",
       "  D0_21                     beta2 + 1/980\n",
       "  D3_11                     6*beta1 + beta4 - 1/70\n",
       "  D2_11                     7*beta1\n",
       "  D1_11                     beta4 - 13/980\n",
       "  D0_11                     beta1 + 1/980"
      ]
     },
     "execution_count": 20,
     "metadata": {},
     "output_type": "execute_result"
    }
   ],
   "source": [
    "original_to_full_dim_var = dict(zip(list(map(SR, var_dual)), list(full_dim_vars_dual)))\n",
    "table([original_to_full_dim_var.keys(), original_to_full_dim_var.values()], \n",
    "      header_column=[\"original dual variables\", \"full dimensional description\"]).transpose()"
   ]
  },
  {
   "cell_type": "code",
   "execution_count": 21,
   "metadata": {},
   "outputs": [
    {
     "data": {
      "text/html": [
       "<html><script type=\"math/tex; mode=display\">\\newcommand{\\Bold}[1]{\\mathbf{#1}}\\left(\\begin{array}{rr|rr|rr|rr}\n",
       "\\beta_{1} + \\frac{1}{980} & \\beta_{2} + \\frac{1}{980} & 0 & 0 & 0 & 0 & 0 & 0 \\\\\n",
       "\\beta_{2} + \\frac{1}{980} & \\beta_{3} + \\frac{1}{980} & 0 & 0 & 0 & 0 & 0 & 0 \\\\\n",
       "\\hline\n",
       " 0 & 0 & \\beta_{4} - \\frac{13}{980} & 5 \\, \\beta_{1} + 5 \\, \\beta_{2} + \\frac{1}{3} \\, \\beta_{4} + \\frac{1}{980} & 0 & 0 & 0 & 0 \\\\\n",
       "0 & 0 & 5 \\, \\beta_{1} + 5 \\, \\beta_{2} + \\frac{1}{3} \\, \\beta_{4} + \\frac{1}{980} & -4 \\, \\beta_{1} - 4 \\, \\beta_{2} - \\frac{1}{3} \\, \\beta_{4} + \\frac{1}{980} & 0 & 0 & 0 & 0 \\\\\n",
       "\\hline\n",
       " 0 & 0 & 0 & 0 & 7 \\, \\beta_{1} & -2 \\, \\beta_{1} - 9 \\, \\beta_{2} - \\frac{2}{3} \\, \\beta_{4} & 0 & 0 \\\\\n",
       "0 & 0 & 0 & 0 & -2 \\, \\beta_{1} - 9 \\, \\beta_{2} - \\frac{2}{3} \\, \\beta_{4} & 6 \\, \\beta_{1} + \\beta_{3} & 0 & 0 \\\\\n",
       "\\hline\n",
       " 0 & 0 & 0 & 0 & 0 & 0 & 6 \\, \\beta_{1} + \\beta_{4} - \\frac{1}{70} & 3 \\, \\beta_{1} - 5 \\, \\beta_{2} - \\frac{1}{3} \\, \\beta_{4} \\\\\n",
       "0 & 0 & 0 & 0 & 0 & 0 & 3 \\, \\beta_{1} - 5 \\, \\beta_{2} - \\frac{1}{3} \\, \\beta_{4} & 2 \\, \\beta_{1} - 4 \\, \\beta_{2} - \\frac{1}{3} \\, \\beta_{4}\n",
       "\\end{array}\\right)</script></html>"
      ],
      "text/plain": [
       "[                         beta1 + 1/980                          beta2 + 1/980|                                     0                                      0|                                     0                                      0|                                     0                                      0]\n",
       "[                         beta2 + 1/980                          beta3 + 1/980|                                     0                                      0|                                     0                                      0|                                     0                                      0]\n",
       "[-----------------------------------------------------------------------------+-----------------------------------------------------------------------------+-----------------------------------------------------------------------------+-----------------------------------------------------------------------------]\n",
       "[                                     0                                      0|                        beta4 - 13/980  5*beta1 + 5*beta2 + 1/3*beta4 + 1/980|                                     0                                      0|                                     0                                      0]\n",
       "[                                     0                                      0| 5*beta1 + 5*beta2 + 1/3*beta4 + 1/980 -4*beta1 - 4*beta2 - 1/3*beta4 + 1/980|                                     0                                      0|                                     0                                      0]\n",
       "[-----------------------------------------------------------------------------+-----------------------------------------------------------------------------+-----------------------------------------------------------------------------+-----------------------------------------------------------------------------]\n",
       "[                                     0                                      0|                                     0                                      0|                               7*beta1         -2*beta1 - 9*beta2 - 2/3*beta4|                                     0                                      0]\n",
       "[                                     0                                      0|                                     0                                      0|        -2*beta1 - 9*beta2 - 2/3*beta4                        6*beta1 + beta3|                                     0                                      0]\n",
       "[-----------------------------------------------------------------------------+-----------------------------------------------------------------------------+-----------------------------------------------------------------------------+-----------------------------------------------------------------------------]\n",
       "[                                     0                                      0|                                     0                                      0|                                     0                                      0|                6*beta1 + beta4 - 1/70          3*beta1 - 5*beta2 - 1/3*beta4]\n",
       "[                                     0                                      0|                                     0                                      0|                                     0                                      0|         3*beta1 - 5*beta2 - 1/3*beta4          2*beta1 - 4*beta2 - 1/3*beta4]"
      ]
     },
     "metadata": {},
     "output_type": "display_data"
    }
   ],
   "source": [
    "D_reduced = block_diagonal_matrix(sub_list_matrices(Ds, original_to_full_dim_var))\n",
    "show(D_reduced)"
   ]
  },
  {
   "cell_type": "markdown",
   "metadata": {},
   "source": [
    "# use KKT conditions to transform the SDP to a system of polynomial equations¶\n"
   ]
  },
  {
   "cell_type": "code",
   "execution_count": null,
   "metadata": {},
   "outputs": [],
   "source": [
    "# w = objective_reduced\n",
    "w = var('omega')\n",
    "R = QQ[Q_reduced.variables() + D_reduced.variables() + (w,)]\n",
    "\n",
    "# KKT equations\n",
    "KKT_eqn = (D_reduced * Q_reduced).list() + [w - objective_reduced]\n",
    "KKT_eqn = list(set(KKT_eqn))\n",
    "print(\"KKT equations = \")\n",
    "\n",
    "table([list(map(R, KKT_eqn)), [\"= 0\" for _ in KKT_eqn]]).transpose()"
   ]
  },
  {
   "cell_type": "markdown",
   "metadata": {},
   "source": [
    "Ideal generated by the KKT equations"
   ]
  },
  {
   "cell_type": "code",
   "execution_count": null,
   "metadata": {},
   "outputs": [],
   "source": [
    "I = map(lambda p: R(p), KKT_eqn)\n",
    "I = R*I\n",
    "print(\"Ideal I is generated by %d equations in %d variables\" % (len(I.gens()), len(R.gens())))"
   ]
  },
  {
   "cell_type": "markdown",
   "metadata": {},
   "source": [
    "Solve the KKT equations by eliminating all variables except $\\omega$\n"
   ]
  },
  {
   "cell_type": "code",
   "execution_count": null,
   "metadata": {},
   "outputs": [],
   "source": [
    "I_a = I.elimination_ideal([v for v in R.gens() if SR(v) != w])\n",
    "show(I_a)"
   ]
  },
  {
   "cell_type": "code",
   "execution_count": null,
   "metadata": {},
   "outputs": [],
   "source": [
    "print(\"The ideal I_a has %d generator\" % len(I_a.gens()))"
   ]
  },
  {
   "cell_type": "code",
   "execution_count": null,
   "metadata": {},
   "outputs": [],
   "source": [
    "p = SR(I_a.gens()[0])\n",
    "show(factor(p))"
   ]
  },
  {
   "cell_type": "code",
   "execution_count": null,
   "metadata": {},
   "outputs": [],
   "source": [
    "minimal_poly = p.factor_list()[0][0]\n",
    "minimal_poly /= minimal_poly.coefficient(w^3)\n",
    "show(minimal_poly)\n",
    "plot(minimal_poly)"
   ]
  },
  {
   "cell_type": "code",
   "execution_count": null,
   "metadata": {},
   "outputs": [],
   "source": [
    "show(minimal_poly.roots())"
   ]
  },
  {
   "cell_type": "code",
   "execution_count": null,
   "metadata": {},
   "outputs": [],
   "source": [
    "minimal_poly.roots(ring=RDF)"
   ]
  }
 ],
 "metadata": {
  "@webio": {
   "lastCommId": null,
   "lastKernelId": null
  },
  "kernelspec": {
   "display_name": "SageMath 8.6",
   "language": "",
   "name": "sagemath"
  },
  "varInspector": {
   "cols": {
    "lenName": 16,
    "lenType": 16,
    "lenVar": 40
   },
   "kernels_config": {
    "python": {
     "delete_cmd_postfix": "",
     "delete_cmd_prefix": "del ",
     "library": "var_list.py",
     "varRefreshCmd": "print(var_dic_list())"
    },
    "r": {
     "delete_cmd_postfix": ") ",
     "delete_cmd_prefix": "rm(",
     "library": "var_list.r",
     "varRefreshCmd": "cat(var_dic_list()) "
    }
   },
   "types_to_exclude": [
    "module",
    "function",
    "builtin_function_or_method",
    "instance",
    "_Feature"
   ],
   "window_display": false
  }
 },
 "nbformat": 4,
 "nbformat_minor": 2
}
